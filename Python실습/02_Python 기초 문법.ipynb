{
 "cells": [
  {
   "cell_type": "markdown",
   "metadata": {},
   "source": [
    "# Python 기초 문법\n",
    "\n",
    "### 주요 내용\n",
    "\n",
    "1. int, str 등 주요 객체 형식\n",
    "2. 리스트와 튜플, 딕셔너리의 이해\n",
    "3. numpy를 활용한 행렬 연산\n",
    "\n",
    "<br>\n",
    "\n",
    "### 목표 \n",
    "1. int, str 등 객체 형식에 따라 적절한 메서드를 활용한다.\n",
    "2. 여러 개의 값을 리스트 형식 등으로 저장하고 활용한다.\n",
    "3. 리스트와 튜플, 딕셔너리의 차이를 이해한다.\n",
    "\n",
    "\n",
    "<br>\n",
    "<hr>\n",
    "<br>"
   ]
  },
  {
   "cell_type": "markdown",
   "metadata": {},
   "source": [
    "여기서는 Python의 기초 문법을 살펴봅니다.  \n",
    "Python은 개발 언어로 분석 중심의 언어가 아닙니다. 0에서 1을 만드는 개발과 달리 데이터 분석은 데이터라는 재료를 활용하기 때문에 방대한 Python 기초 문법을 모두 배워야하는 것은 아닙니다. 필요하고 중요한 내용 중심으로 살펴보겠습니다.\n",
    "\n",
    "\n",
    "<br>\n",
    "\n",
    "## 1. 형식의 이해\n",
    "\n",
    "\n",
    "\n",
    "<br>\n",
    "\n",
    "\n",
    "\n",
    "### 1.1. 숫자와 문자, 출력과 저장(할당)\n",
    "\n",
    "숫자는 그냥 입력하면 되고, 문자는 큰 따옴표나 작은 따옴표를 붙입니다.  \n",
    "`print( )` 함수를 써서 출력하거나 `=`을 써서 값을 객체로 저장할 수도 있습니다.  "
   ]
  },
  {
   "cell_type": "code",
   "execution_count": null,
   "metadata": {},
   "outputs": [],
   "source": [
    "# 숫자와 연산\n",
    "    ## 마지막 결과만 출력\n",
    "    ## 중간 공백은 문제 없지만 시작 위치는 민감\n",
    "1+2*3/4\n",
    "\n",
    "1 + 2  * 3/  4**5"
   ]
  },
  {
   "cell_type": "code",
   "execution_count": null,
   "metadata": {},
   "outputs": [],
   "source": [
    "# 문자\n",
    "    ## 큰따옴표, 작은따옴표 차이 없음\n",
    "'삼성전자'"
   ]
  },
  {
   "cell_type": "code",
   "execution_count": null,
   "metadata": {},
   "outputs": [],
   "source": [
    "\"삼성전자\""
   ]
  },
  {
   "cell_type": "code",
   "execution_count": null,
   "metadata": {},
   "outputs": [],
   "source": [
    "\"작은따옴표(' ')를 포함한 글자\""
   ]
  },
  {
   "cell_type": "code",
   "execution_count": null,
   "metadata": {},
   "outputs": [],
   "source": [
    "# 할당(assign), 저장\n",
    "    ## '+' : 숫자 덧셈 연산, 문자열 결합\n",
    "a = '가나다'\n",
    "b = '라마바'\n",
    "print(a + b)"
   ]
  },
  {
   "cell_type": "code",
   "execution_count": null,
   "metadata": {},
   "outputs": [],
   "source": [
    "# 업데이트\n",
    "c = 1\n",
    "c = 0\n",
    "c = c + 10\n",
    "\n",
    "c += 100\n",
    "    ## c += 100 : c = c + 100\n",
    "    \n",
    "print(c)"
   ]
  },
  {
   "cell_type": "code",
   "execution_count": null,
   "metadata": {},
   "outputs": [],
   "source": [
    "# print( )를 활용한 출력\n",
    "    ## 숫자나 문자를 콤마(,)로 나열하면 출력\n",
    "    ## 함수 안에서 Shift + Tab 눌러 도움말 보기\n",
    "\n",
    "print('삼성전자')\n",
    "print('DS', 'DX')"
   ]
  },
  {
   "cell_type": "code",
   "execution_count": null,
   "metadata": {},
   "outputs": [],
   "source": [
    "# 문자열의 f-string 메서드를 활용한 출력\n",
    "    ## 콤마로 나열할 필요 없이 문자열 중간에 값을 넣어 출력 가능    \n",
    "\n",
    "x=100\n",
    "y=999\n",
    "\n",
    "print('x는 {}이고, y는 {}이다'.format(x, y)) # 과거에 주로 활용\n",
    "print(f'x는 {x}이고, y는 {y}이다') # 최근에 주로 활용"
   ]
  },
  {
   "cell_type": "markdown",
   "metadata": {},
   "source": [
    "#### [실습] x에 10.1을 저장하고, y에 101을 저장한 다음 더하기"
   ]
  },
  {
   "cell_type": "code",
   "execution_count": null,
   "metadata": {},
   "outputs": [],
   "source": []
  },
  {
   "cell_type": "markdown",
   "metadata": {},
   "source": [
    "#### [실습] a=1, b=5로 할당하고 문자 'a + b는'과 a+b 계산 결과를 print( )로 함께 출력\n",
    "\n",
    "출력 결과 예시  \n",
    "`1 + 5는 6`"
   ]
  },
  {
   "cell_type": "code",
   "execution_count": null,
   "metadata": {},
   "outputs": [],
   "source": []
  },
  {
   "cell_type": "markdown",
   "metadata": {},
   "source": [
    "#### [참고] print를 활용한 로그 저장"
   ]
  },
  {
   "cell_type": "code",
   "execution_count": null,
   "metadata": {},
   "outputs": [],
   "source": [
    "from datetime import datetime\n",
    "with open('log.txt', 'w') as f:\n",
    "    time1 = datetime.now().strftime('%Y-%m-%d %H:%M:%S')\n",
    "    print(f'{time1} - comments', file=f)"
   ]
  },
  {
   "cell_type": "markdown",
   "metadata": {},
   "source": [
    "\n",
    "<br>\n",
    "<br>\n",
    "\n",
    "### 1.2. type( )을 활용한 데이터 타입(type, 형식) 확인 \n",
    "\n",
    "`type( )`을 활용해서 각 데이터, 객체(object)의 타입을 확인할 수 있습니다.\n",
    "\n",
    "* int : 정수(integer)\n",
    "* str : 문자열(string)\n",
    "* float : 소수점, 비율을 포함한 실수\n"
   ]
  },
  {
   "cell_type": "code",
   "execution_count": null,
   "metadata": {},
   "outputs": [],
   "source": [
    "type(1)"
   ]
  },
  {
   "cell_type": "code",
   "execution_count": null,
   "metadata": {},
   "outputs": [],
   "source": [
    "type('가')"
   ]
  },
  {
   "cell_type": "code",
   "execution_count": null,
   "metadata": {},
   "outputs": [],
   "source": [
    "type('1')"
   ]
  },
  {
   "cell_type": "code",
   "execution_count": null,
   "metadata": {},
   "outputs": [],
   "source": [
    "type(1.0)"
   ]
  },
  {
   "cell_type": "markdown",
   "metadata": {},
   "source": [
    "### 1.3.  비교 연산과 bool 형식의 이해\n",
    "등호와 부등호를 활용해서 숫자를 비교할 수 있습니다.  \n",
    "`=`은 할당(저장)을 할 때 활용되므로 일치여부를 확인할 때는 `==`을 활용하고 불일치여부는 `!=`을 활용합니다.  \n",
    "\n",
    "비교 연산 등의 결과로 **True** 혹은 **False**가 출력되는데 이렇게 참, 거짓 두개의 값을 갖는 객체는 *불(bool)* 형식으로 저장됩니다."
   ]
  },
  {
   "cell_type": "code",
   "execution_count": null,
   "metadata": {},
   "outputs": [],
   "source": [
    "x=100\n",
    "y=99"
   ]
  },
  {
   "cell_type": "code",
   "execution_count": null,
   "metadata": {},
   "outputs": [],
   "source": [
    "x>=y"
   ]
  },
  {
   "cell_type": "code",
   "execution_count": null,
   "metadata": {},
   "outputs": [],
   "source": [
    "y==9"
   ]
  },
  {
   "cell_type": "code",
   "execution_count": null,
   "metadata": {},
   "outputs": [],
   "source": [
    "y!=9"
   ]
  },
  {
   "cell_type": "code",
   "execution_count": null,
   "metadata": {},
   "outputs": [],
   "source": [
    "type(y>0)"
   ]
  },
  {
   "cell_type": "markdown",
   "metadata": {},
   "source": [
    "\n",
    "<br>\n",
    "\n",
    "## 2. 여러 값을 묶은 리스트(list)\n",
    "\n",
    "`1`, `'삼성'`처럼 하나의 값이 아니라 여러개의 값을 묶으면 수열, 문자열이 됩니다.\n",
    "Python에서는 이런 묶음을 다루는 형식이 몇 개 있는데 그 중 대표적인 것이 **리스트(list)**입니다.  \n",
    "\n",
    "### 2.1. 대괄호([ ])를 활용한 리스트 생성"
   ]
  },
  {
   "cell_type": "code",
   "execution_count": null,
   "metadata": {},
   "outputs": [],
   "source": [
    "salary = [5000, 6000, 7000, 6000, 9000]\n",
    "salary"
   ]
  },
  {
   "cell_type": "code",
   "execution_count": null,
   "metadata": {},
   "outputs": [],
   "source": [
    "# 타입 확인 : list\n",
    "type(salary)"
   ]
  },
  {
   "cell_type": "code",
   "execution_count": null,
   "metadata": {},
   "outputs": [],
   "source": [
    "# 문자열 리스트\n",
    "jobs = ['회로설계', '반도체공정설계', '신호 및 시스템 설계', 'S/W개발', '영업마케팅', '경영지원', '생산관리']\n",
    "jobs"
   ]
  },
  {
   "cell_type": "markdown",
   "metadata": {},
   "source": [
    "#### [실습] 1~45까지 숫자 중에서 마음대로 6개 숫자 선택해서 리스트로 만들어 저장하기\n",
    "\n",
    "\n",
    "\n",
    "#### [실습] 점심/저녁 메뉴 3개를 리스트로 묶어 menu로 저장하기 \n",
    "\n"
   ]
  },
  {
   "cell_type": "code",
   "execution_count": null,
   "metadata": {},
   "outputs": [],
   "source": []
  },
  {
   "cell_type": "code",
   "execution_count": null,
   "metadata": {},
   "outputs": [],
   "source": []
  },
  {
   "cell_type": "markdown",
   "metadata": {},
   "source": [
    "<br>\n",
    "\n",
    "### 2.2. 리스트의 주요 메서드\n",
    "\n",
    "append( )는 리스트에 값을 추가하고, extend( )는 리스트에 또다른 리스트를 이어 붙입니다."
   ]
  },
  {
   "cell_type": "code",
   "execution_count": null,
   "metadata": {},
   "outputs": [],
   "source": [
    "# 더 이어 붙이기 \n",
    "salary = [5000, 6000, 7000, 6000, 9000]\n",
    "print(salary) \n",
    "\n",
    "\n",
    "salary.append(10000)\n",
    "print(salary)"
   ]
  },
  {
   "cell_type": "code",
   "execution_count": null,
   "metadata": {},
   "outputs": [],
   "source": [
    "# 또다른 리스트를 이어 붙이기\n",
    "salary.extend([6000, 5000])\n",
    "print(salary)"
   ]
  },
  {
   "cell_type": "code",
   "execution_count": null,
   "metadata": {},
   "outputs": [],
   "source": [
    "b = [5500, 6500]\n",
    "salary.extend(b)\n",
    "print(salary)"
   ]
  },
  {
   "cell_type": "markdown",
   "metadata": {},
   "source": [
    "#### [실습] 관심있는 메뉴 3개를 묶은 menu에 append( )로 메뉴 하나 더 추가하기\n",
    "\n"
   ]
  },
  {
   "cell_type": "code",
   "execution_count": null,
   "metadata": {},
   "outputs": [],
   "source": []
  },
  {
   "cell_type": "markdown",
   "metadata": {},
   "source": [
    "<br>\n",
    "\n",
    "## 2.3. index의 활용   \n",
    "\n",
    "리스트를 만들 때 사용한 대괄호와 별개로, 만들어진 리스트에 대괄호 인덱스를 활용해서 부분을 선택할 수 있습니다.\n",
    "\n"
   ]
  },
  {
   "cell_type": "code",
   "execution_count": null,
   "metadata": {},
   "outputs": [],
   "source": [
    "# 대괄호 index를 활용한 부분 선택\n",
    "    ## index는 0부터 시작 : 첫번째 값이 0\n",
    "    ## 콜론(:)을 활용해 연속적인 인덱스 지정 가능(슬라이싱), 끝 인덱스 미포함\n",
    "salary[0] "
   ]
  },
  {
   "cell_type": "code",
   "execution_count": null,
   "metadata": {},
   "outputs": [],
   "source": [
    "salary[0:2]"
   ]
  },
  {
   "cell_type": "code",
   "execution_count": null,
   "metadata": {},
   "outputs": [],
   "source": [
    "# 인덱스를 활용한 업데이트\n",
    "salary[0] = 50000\n",
    "salary"
   ]
  },
  {
   "cell_type": "markdown",
   "metadata": {},
   "source": [
    "#### [실습] menu에서 첫번째 메뉴만 선택\n",
    "\n",
    "\n",
    "#### [실습] menu에서 세번째 메뉴를 '우동'으로 변경\n",
    "\n"
   ]
  },
  {
   "cell_type": "code",
   "execution_count": null,
   "metadata": {},
   "outputs": [],
   "source": []
  },
  {
   "cell_type": "code",
   "execution_count": null,
   "metadata": {},
   "outputs": [],
   "source": []
  },
  {
   "cell_type": "code",
   "execution_count": null,
   "metadata": {},
   "outputs": [],
   "source": []
  },
  {
   "cell_type": "markdown",
   "metadata": {},
   "source": [
    "### 2.4. 다양한 리스트 생성 방법\n",
    "<br> \n",
    "\n",
    "#### 2.4.1. list( )의 활용\n",
    "\n",
    "list( )로 빈 리스트를 만들거나 다른 타입의 값들을 리스트 형식으로 바꿀 수 있습니다."
   ]
  },
  {
   "cell_type": "code",
   "execution_count": null,
   "metadata": {},
   "outputs": [],
   "source": [
    "a = list()\n",
    "print(a)\n",
    "\n",
    "a.append('2023-12-25')\n",
    "print(a)\n",
    "\n",
    "a.append('2023-12-31')\n",
    "print(a)\n"
   ]
  },
  {
   "cell_type": "markdown",
   "metadata": {},
   "source": [
    "\n",
    "\n",
    "\n",
    "### 2.4.2. range( )를 활용한 수열 만들기\n",
    "\n",
    "연속적인 수열을 만들 때는 range( )를 활용합니다.\n"
   ]
  },
  {
   "cell_type": "code",
   "execution_count": null,
   "metadata": {},
   "outputs": [],
   "source": [
    "# 0부터 시작하는 range\n",
    "range(10)"
   ]
  },
  {
   "cell_type": "code",
   "execution_count": null,
   "metadata": {},
   "outputs": [],
   "source": [
    "# range( )와 list( )를 활용한 수열 생성\n",
    "list(range(10))"
   ]
  },
  {
   "cell_type": "code",
   "execution_count": null,
   "metadata": {},
   "outputs": [],
   "source": [
    "list(range(1, 20))\n",
    "    ## 1부터 20 바로 앞 19까지"
   ]
  },
  {
   "cell_type": "code",
   "execution_count": null,
   "metadata": {},
   "outputs": [],
   "source": [
    "list(range(1, 20, 3))\n",
    "    ## 1부터 19까지 3간격"
   ]
  },
  {
   "cell_type": "markdown",
   "metadata": {},
   "source": [
    "#### [실습] range( )와 list( )로 2013부터 2022까지 10개 연도 만들기\n",
    "\n",
    "\n"
   ]
  },
  {
   "cell_type": "code",
   "execution_count": null,
   "metadata": {},
   "outputs": [],
   "source": []
  },
  {
   "cell_type": "code",
   "execution_count": null,
   "metadata": {},
   "outputs": [],
   "source": []
  },
  {
   "cell_type": "markdown",
   "metadata": {},
   "source": [
    "<br>\n",
    "\n",
    "## 3. 여러 값을 묶은 튜플(tuple)과 딕셔너리(Dictionary)\n",
    "\n",
    "<br>\n",
    "\n",
    "### 3.1. 튜플\n",
    "\n",
    "리스트와 비슷하게 여러개의 값을 묶지만, 값 변경이 불가능해서 데이터 분석에서 활용도는 떨어집니다. 다만, 전체 분석과정에서 절대 바뀌지 않는 값 묶음이 있다면, 튜플 형식을 활용할 수 있습니다.  \n",
    "\n",
    "튜플은 소괄호를 활용해서 만들거나 소괄호를 생략할 수도 있습니다.\n",
    "\n"
   ]
  },
  {
   "cell_type": "code",
   "execution_count": null,
   "metadata": {},
   "outputs": [],
   "source": [
    "aa = (1, 2, 3)\n",
    "bb = '아침', '점심', '저녁'\n",
    "\n",
    "print(aa)\n",
    "print(bb)"
   ]
  },
  {
   "cell_type": "code",
   "execution_count": null,
   "metadata": {},
   "outputs": [],
   "source": [
    "# 인덱스 활용 가능\n",
    "print(aa[0])\n",
    "print(bb[1:])"
   ]
  },
  {
   "cell_type": "code",
   "execution_count": null,
   "metadata": {},
   "outputs": [],
   "source": [
    "# 추가/업데이트 불가능\n",
    "aa[0] = 4"
   ]
  },
  {
   "cell_type": "code",
   "execution_count": null,
   "metadata": {},
   "outputs": [],
   "source": []
  },
  {
   "cell_type": "code",
   "execution_count": null,
   "metadata": {},
   "outputs": [],
   "source": []
  },
  {
   "cell_type": "markdown",
   "metadata": {},
   "source": [
    "### 3.2. 딕셔너리\n",
    "\n",
    "여러 값을 한번에 묶어 저장하는 방법은 리스트와 튜플말고도 더 있습니다. 바로 딕셔너리(Dictionary)입니다.\n",
    "\n",
    "딕셔너리는 키(key)와 값(value)를 활용해서 여러 값을 구분해서 저장합니다. 리스트가 `연봉`처럼 여러 관측치의 동일한 속성을 저장한다면, 딕셔너리는 하나의 대상에 대해서 키라고 부르는 여러 속성의 값을 저장합니다.   \n",
    "\n",
    "딕셔너리는 중괄호 `{ }`를 활용하고 아래와 같은 방법으로 생성합니다. \n",
    "\n",
    "```[Python]\n",
    "{'key1':'value1', 'key2':'value2', 'key3':'value3', ...}\n",
    "```\n",
    "\n",
    "하나의 키와 연결된 값을 묶어 **쌍**이라고 부릅니다."
   ]
  },
  {
   "cell_type": "code",
   "execution_count": null,
   "metadata": {},
   "outputs": [],
   "source": [
    "# 이 강의의 속성을 딕셔너리로 저장\n",
    "this_lecture = {'회사':'삼성전자', '분석도구':'Python', '기간':'3일'}\n",
    "this_lecture"
   ]
  },
  {
   "cell_type": "code",
   "execution_count": null,
   "metadata": {},
   "outputs": [],
   "source": [
    "# 대괄호와 키를 활용한 선택\n",
    "    ## 리스트의 인덱스 대신 키를 활용\n",
    "this_lecture['회사']"
   ]
  },
  {
   "cell_type": "code",
   "execution_count": null,
   "metadata": {},
   "outputs": [],
   "source": [
    "# 메서드 get()을 활용한 선택\n",
    "this_lecture.get('회사')"
   ]
  },
  {
   "cell_type": "code",
   "execution_count": null,
   "metadata": {},
   "outputs": [],
   "source": [
    "# 쌍 추가 \n",
    "this_lecture['수강인원'] = 20\n",
    "this_lecture"
   ]
  },
  {
   "cell_type": "code",
   "execution_count": null,
   "metadata": {},
   "outputs": [],
   "source": [
    "# 쌍 제거\n",
    "del this_lecture['기간']\n",
    "this_lecture"
   ]
  },
  {
   "cell_type": "code",
   "execution_count": null,
   "metadata": {},
   "outputs": [],
   "source": [
    "# 키 목록 선택\n",
    "this_lecture.keys()"
   ]
  },
  {
   "cell_type": "code",
   "execution_count": null,
   "metadata": {},
   "outputs": [],
   "source": [
    "# 리스트 형식으로 변환\n",
    "list(this_lecture.keys())"
   ]
  },
  {
   "cell_type": "code",
   "execution_count": null,
   "metadata": {},
   "outputs": [],
   "source": [
    "# 값 목록 선택\n",
    "this_lecture.values()"
   ]
  },
  {
   "cell_type": "markdown",
   "metadata": {},
   "source": [
    "#### [실습] 각자 본인의 아래 정보를 딕셔너리로 저장\n",
    "\n",
    "(딕셔너리의 값(value)에 리스트를 넣는 것도 가능합니다!)\n",
    "\n",
    "* 이름\n",
    "* 부서\n",
    "* 연차\n",
    "* 관심메뉴(위에서 만든 menu를 값으로 지정)\n",
    "\n"
   ]
  },
  {
   "cell_type": "code",
   "execution_count": null,
   "metadata": {},
   "outputs": [],
   "source": [
    "my_info = {}"
   ]
  },
  {
   "cell_type": "code",
   "execution_count": null,
   "metadata": {},
   "outputs": [],
   "source": []
  },
  {
   "cell_type": "code",
   "execution_count": null,
   "metadata": {},
   "outputs": [],
   "source": []
  },
  {
   "cell_type": "code",
   "execution_count": null,
   "metadata": {},
   "outputs": [],
   "source": []
  },
  {
   "cell_type": "markdown",
   "metadata": {},
   "source": [
    "## 4. numpy의 활용 \n",
    "\n",
    "**numpy**는 *ndarray*라는 형식을 활용해서 다양한 행렬 연산과 처리를 지원합니다.  \n",
    "단, 일반적인 데이터 분석 업무에서 사용자가 직접 행렬을 생성하거나 연산할 일은 없기 때문에 간단히 살펴보겠습니다."
   ]
  },
  {
   "cell_type": "code",
   "execution_count": null,
   "metadata": {},
   "outputs": [],
   "source": [
    "import numpy as np"
   ]
  },
  {
   "cell_type": "code",
   "execution_count": null,
   "metadata": {},
   "outputs": [],
   "source": [
    "x = [1, 2, 4, 8]\n",
    "y = np.array(x)\n",
    "y"
   ]
  },
  {
   "cell_type": "code",
   "execution_count": null,
   "metadata": {},
   "outputs": [],
   "source": [
    "y2 = np.array([ [1,2,3,4], [9,8,7,6] ])\n",
    "y3 = np.array([ [0, 1], [1, 0] ])\n",
    "\n",
    "y2, y3              "
   ]
  },
  {
   "cell_type": "code",
   "execution_count": null,
   "metadata": {},
   "outputs": [],
   "source": [
    "# 산술 연산\n",
    "y2 * 2 + 1"
   ]
  },
  {
   "cell_type": "code",
   "execution_count": null,
   "metadata": {},
   "outputs": [],
   "source": [
    "# 행렬 곱\n",
    "y3@y2"
   ]
  },
  {
   "cell_type": "code",
   "execution_count": null,
   "metadata": {},
   "outputs": [],
   "source": [
    "# 행렬 크기 확인\n",
    "y2.shape"
   ]
  },
  {
   "cell_type": "markdown",
   "metadata": {},
   "source": [
    "#### End of script"
   ]
  }
 ],
 "metadata": {
  "kernelspec": {
   "display_name": "Python 3 (ipykernel)",
   "language": "python",
   "name": "python3"
  },
  "language_info": {
   "codemirror_mode": {
    "name": "ipython",
    "version": 3
   },
   "file_extension": ".py",
   "mimetype": "text/x-python",
   "name": "python",
   "nbconvert_exporter": "python",
   "pygments_lexer": "ipython3",
   "version": "3.9.13"
  }
 },
 "nbformat": 4,
 "nbformat_minor": 4
}
