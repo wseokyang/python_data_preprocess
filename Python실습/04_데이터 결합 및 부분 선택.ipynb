{
 "cells": [
  {
   "cell_type": "markdown",
   "metadata": {},
   "source": [
    "# 데이터 결합 및 부분 선택\n",
    "\n",
    "### 주요 내용\n",
    "\n",
    "1. 데이터 결합\n",
    "2. index, columns을 활용한 부분 선택 \n",
    "3. 조건을 활용한 관측치 선택\n",
    "\n",
    "<br>\n",
    "\n",
    "### 목표 \n",
    "1. 복수의 데이터를 적절한 방법으로 결합할 수 있다.\n",
    "2. 변수 이름 등을 활용하여 부분 데이터를 선택한다.\n",
    "3. 주제에 맞게 조건을 활용하여 부분 관측치를 선택한다. \n",
    "\n",
    "\n",
    "<br>\n",
    "<hr>\n",
    "<br>"
   ]
  },
  {
   "cell_type": "markdown",
   "metadata": {},
   "source": [
    "## 1. DataFrame 형식의 활용\n",
    "\n",
    "**pandas**는 데이터를 저장하는 형식 DataFrame을 중심으로 구성되어 있습니다. pandas의 다양한 함수를 활용해서 데이터를 불러오거나 저장할 수 있고, 분석 과정에서 필요한 전처리나 집계 작업도 가능합니다.   \n"
   ]
  },
  {
   "cell_type": "code",
   "execution_count": 3,
   "metadata": {},
   "outputs": [],
   "source": [
    "# 라이브러리 불러오기\n",
    "import pandas as pd"
   ]
  },
  {
   "cell_type": "markdown",
   "metadata": {},
   "source": [
    "<br>\n",
    "\n",
    "DataFrame에서 각각의 열, 변수가 하나의 Series로 저장되어 있습니다. Series에 딸려 있는 메서드가 있고, DataFrame에 딸린 메서드가 있어서 구분할 수 있으면 좋지만 이런 세부적인 내용을 몰라도 큰 문제는 없습니다. 그리고 직접 Series를 만들고 결합해서 DataFrame을 만드는 것이 아니라 csv 파일로 데이터를 불러오는 경우가 많기 때문에 더욱이 Series 형식을 자세히 알아둘 필요는 없습니다. \n",
    "\n",
    "만약 직접 DataFrame을 만들어야 할 때는 DataFrame( )을 활용할 수 있습니다. 그리고 이 안에 딕셔너리를 넣는 것이 일반적입니다."
   ]
  },
  {
   "cell_type": "code",
   "execution_count": null,
   "metadata": {
    "scrolled": true
   },
   "outputs": [],
   "source": [
    "# 딕셔너리를 활용한 DataFrame 생성\n",
    "df_own = pd.DataFrame({'FIRST' : ['A', 'B', 'C', 'D'],\n",
    "                       'SECOND': [7,6,5,8], \n",
    "                       'THIRD' : pd.date_range('2022-12-05', periods=4, freq='W-MON')})\n",
    "df_own\n",
    "    # freq='W-MON' : 매주 월요일\n"
   ]
  },
  {
   "cell_type": "markdown",
   "metadata": {},
   "source": [
    "<br>\n",
    "<hr>\n",
    "<br>\n",
    "\n",
    "## 2. 데이터 결합\n",
    "\n",
    "### 2.1. concat( )을 활용한 동일 구조 데이터 행 결합\n",
    "\n",
    "구조는 똑같고 기간이나 상품만 다른 여러 데이터가 있으면 결합해서 활용합니다. 이때 pandas의 *concat()*을 활용합니다. 함수 안에서 `axis=0`옵션을 활용해서 행 결합(아래로 이어 붙이기)을 할 수 있고, `axis=1`로 열 결합도 가능합니다. `axis=0`이 기본값이라서 생략 가능합니다."
   ]
  },
  {
   "cell_type": "code",
   "execution_count": 4,
   "metadata": {},
   "outputs": [
    {
     "data": {
      "text/html": [
       "<div>\n",
       "<style scoped>\n",
       "    .dataframe tbody tr th:only-of-type {\n",
       "        vertical-align: middle;\n",
       "    }\n",
       "\n",
       "    .dataframe tbody tr th {\n",
       "        vertical-align: top;\n",
       "    }\n",
       "\n",
       "    .dataframe thead th {\n",
       "        text-align: right;\n",
       "    }\n",
       "</style>\n",
       "<table border=\"1\" class=\"dataframe\">\n",
       "  <thead>\n",
       "    <tr style=\"text-align: right;\">\n",
       "      <th></th>\n",
       "      <th>시군구</th>\n",
       "      <th>번지</th>\n",
       "      <th>본번</th>\n",
       "      <th>부번</th>\n",
       "      <th>단지명</th>\n",
       "      <th>전용면적(㎡)</th>\n",
       "      <th>계약년월</th>\n",
       "      <th>계약일</th>\n",
       "      <th>거래금액(만원)</th>\n",
       "      <th>층</th>\n",
       "      <th>건축년도</th>\n",
       "      <th>도로명</th>\n",
       "      <th>해제사유발생일</th>\n",
       "    </tr>\n",
       "  </thead>\n",
       "  <tbody>\n",
       "    <tr>\n",
       "      <th>0</th>\n",
       "      <td>서울특별시 강남구 개포동</td>\n",
       "      <td>1282</td>\n",
       "      <td>1282</td>\n",
       "      <td>0</td>\n",
       "      <td>개포래미안포레스트</td>\n",
       "      <td>59.9200</td>\n",
       "      <td>202108</td>\n",
       "      <td>21</td>\n",
       "      <td>199,500</td>\n",
       "      <td>6</td>\n",
       "      <td>2020</td>\n",
       "      <td>개포로 264</td>\n",
       "      <td>NaN</td>\n",
       "    </tr>\n",
       "    <tr>\n",
       "      <th>1</th>\n",
       "      <td>서울특별시 강남구 개포동</td>\n",
       "      <td>185</td>\n",
       "      <td>185</td>\n",
       "      <td>0</td>\n",
       "      <td>개포주공 7단지</td>\n",
       "      <td>83.7000</td>\n",
       "      <td>202108</td>\n",
       "      <td>20</td>\n",
       "      <td>280,000</td>\n",
       "      <td>2</td>\n",
       "      <td>1983</td>\n",
       "      <td>개포로 516</td>\n",
       "      <td>NaN</td>\n",
       "    </tr>\n",
       "    <tr>\n",
       "      <th>2</th>\n",
       "      <td>서울특별시 강남구 개포동</td>\n",
       "      <td>138</td>\n",
       "      <td>138</td>\n",
       "      <td>0</td>\n",
       "      <td>디에이치아너힐즈</td>\n",
       "      <td>59.8732</td>\n",
       "      <td>202108</td>\n",
       "      <td>17</td>\n",
       "      <td>233,000</td>\n",
       "      <td>4</td>\n",
       "      <td>2019</td>\n",
       "      <td>삼성로 11</td>\n",
       "      <td>NaN</td>\n",
       "    </tr>\n",
       "  </tbody>\n",
       "</table>\n",
       "</div>"
      ],
      "text/plain": [
       "             시군구    번지    본번  부번        단지명  전용면적(㎡)    계약년월  계약일 거래금액(만원)  층  \\\n",
       "0  서울특별시 강남구 개포동  1282  1282   0  개포래미안포레스트  59.9200  202108   21  199,500  6   \n",
       "1  서울특별시 강남구 개포동   185   185   0   개포주공 7단지  83.7000  202108   20  280,000  2   \n",
       "2  서울특별시 강남구 개포동   138   138   0   디에이치아너힐즈  59.8732  202108   17  233,000  4   \n",
       "\n",
       "   건축년도      도로명  해제사유발생일  \n",
       "0  2020  개포로 264      NaN  \n",
       "1  1983  개포로 516      NaN  \n",
       "2  2019   삼성로 11      NaN  "
      ]
     },
     "execution_count": 4,
     "metadata": {},
     "output_type": "execute_result"
    }
   ],
   "source": [
    "# 행 결합\n",
    "    ## 출처 : 국토교통부 실거래가(http://rtdown.molit.go.kr/)\n",
    "df_apt1 = pd.read_csv('data/아파트(매매)__실거래가_20210902153616.csv', skiprows=15, encoding='CP949')\n",
    "df_apt1.head(n=3)"
   ]
  },
  {
   "cell_type": "code",
   "execution_count": 5,
   "metadata": {},
   "outputs": [
    {
     "data": {
      "text/html": [
       "<div>\n",
       "<style scoped>\n",
       "    .dataframe tbody tr th:only-of-type {\n",
       "        vertical-align: middle;\n",
       "    }\n",
       "\n",
       "    .dataframe tbody tr th {\n",
       "        vertical-align: top;\n",
       "    }\n",
       "\n",
       "    .dataframe thead th {\n",
       "        text-align: right;\n",
       "    }\n",
       "</style>\n",
       "<table border=\"1\" class=\"dataframe\">\n",
       "  <thead>\n",
       "    <tr style=\"text-align: right;\">\n",
       "      <th></th>\n",
       "      <th>시군구</th>\n",
       "      <th>번지</th>\n",
       "      <th>본번</th>\n",
       "      <th>부번</th>\n",
       "      <th>단지명</th>\n",
       "      <th>전용면적(㎡)</th>\n",
       "      <th>계약년월</th>\n",
       "      <th>계약일</th>\n",
       "      <th>거래금액(만원)</th>\n",
       "      <th>층</th>\n",
       "      <th>건축년도</th>\n",
       "      <th>도로명</th>\n",
       "      <th>해제사유발생일</th>\n",
       "    </tr>\n",
       "  </thead>\n",
       "  <tbody>\n",
       "    <tr>\n",
       "      <th>0</th>\n",
       "      <td>서울특별시 서초구 내곡동</td>\n",
       "      <td>BL-1</td>\n",
       "      <td>1</td>\n",
       "      <td>0</td>\n",
       "      <td>서초더샵포레</td>\n",
       "      <td>114.71</td>\n",
       "      <td>202108</td>\n",
       "      <td>14</td>\n",
       "      <td>185,000</td>\n",
       "      <td>8</td>\n",
       "      <td>2014</td>\n",
       "      <td>헌릉로8길 58</td>\n",
       "      <td>NaN</td>\n",
       "    </tr>\n",
       "    <tr>\n",
       "      <th>1</th>\n",
       "      <td>서울특별시 서초구 반포동</td>\n",
       "      <td>18-1</td>\n",
       "      <td>18</td>\n",
       "      <td>1</td>\n",
       "      <td>래미안퍼스티지</td>\n",
       "      <td>169.31</td>\n",
       "      <td>202108</td>\n",
       "      <td>7</td>\n",
       "      <td>527,000</td>\n",
       "      <td>26</td>\n",
       "      <td>2009</td>\n",
       "      <td>반포대로 275</td>\n",
       "      <td>NaN</td>\n",
       "    </tr>\n",
       "    <tr>\n",
       "      <th>2</th>\n",
       "      <td>서울특별시 서초구 반포동</td>\n",
       "      <td>757</td>\n",
       "      <td>757</td>\n",
       "      <td>0</td>\n",
       "      <td>반포 주공1단지</td>\n",
       "      <td>106.25</td>\n",
       "      <td>202108</td>\n",
       "      <td>9</td>\n",
       "      <td>455,000</td>\n",
       "      <td>2</td>\n",
       "      <td>1973</td>\n",
       "      <td>신반포로 9</td>\n",
       "      <td>NaN</td>\n",
       "    </tr>\n",
       "  </tbody>\n",
       "</table>\n",
       "</div>"
      ],
      "text/plain": [
       "             시군구    번지   본번  부번       단지명  전용면적(㎡)    계약년월  계약일 거래금액(만원)   층  \\\n",
       "0  서울특별시 서초구 내곡동  BL-1    1   0    서초더샵포레   114.71  202108   14  185,000   8   \n",
       "1  서울특별시 서초구 반포동  18-1   18   1   래미안퍼스티지   169.31  202108    7  527,000  26   \n",
       "2  서울특별시 서초구 반포동   757  757   0  반포 주공1단지   106.25  202108    9  455,000   2   \n",
       "\n",
       "   건축년도       도로명  해제사유발생일  \n",
       "0  2014  헌릉로8길 58      NaN  \n",
       "1  2009  반포대로 275      NaN  \n",
       "2  1973    신반포로 9      NaN  "
      ]
     },
     "execution_count": 5,
     "metadata": {},
     "output_type": "execute_result"
    }
   ],
   "source": [
    "df_apt2 = pd.read_csv('data/아파트(매매)__실거래가_20210902153636.csv', skiprows=15, encoding='CP949')\n",
    "df_apt2.head(n=3)"
   ]
  },
  {
   "cell_type": "code",
   "execution_count": 6,
   "metadata": {},
   "outputs": [
    {
     "data": {
      "text/html": [
       "<div>\n",
       "<style scoped>\n",
       "    .dataframe tbody tr th:only-of-type {\n",
       "        vertical-align: middle;\n",
       "    }\n",
       "\n",
       "    .dataframe tbody tr th {\n",
       "        vertical-align: top;\n",
       "    }\n",
       "\n",
       "    .dataframe thead th {\n",
       "        text-align: right;\n",
       "    }\n",
       "</style>\n",
       "<table border=\"1\" class=\"dataframe\">\n",
       "  <thead>\n",
       "    <tr style=\"text-align: right;\">\n",
       "      <th></th>\n",
       "      <th>시군구</th>\n",
       "      <th>번지</th>\n",
       "      <th>본번</th>\n",
       "      <th>부번</th>\n",
       "      <th>단지명</th>\n",
       "      <th>전용면적(㎡)</th>\n",
       "      <th>계약년월</th>\n",
       "      <th>계약일</th>\n",
       "      <th>거래금액(만원)</th>\n",
       "      <th>층</th>\n",
       "      <th>건축년도</th>\n",
       "      <th>도로명</th>\n",
       "      <th>해제사유발생일</th>\n",
       "    </tr>\n",
       "  </thead>\n",
       "  <tbody>\n",
       "    <tr>\n",
       "      <th>0</th>\n",
       "      <td>서울특별시 송파구 가락동</td>\n",
       "      <td>95-1</td>\n",
       "      <td>95</td>\n",
       "      <td>1</td>\n",
       "      <td>가락금호아파트</td>\n",
       "      <td>59.91</td>\n",
       "      <td>202108</td>\n",
       "      <td>8</td>\n",
       "      <td>123,000</td>\n",
       "      <td>1</td>\n",
       "      <td>1997</td>\n",
       "      <td>송파대로32길 15</td>\n",
       "      <td>NaN</td>\n",
       "    </tr>\n",
       "    <tr>\n",
       "      <th>1</th>\n",
       "      <td>서울특별시 송파구 가락동</td>\n",
       "      <td>21-6</td>\n",
       "      <td>21</td>\n",
       "      <td>6</td>\n",
       "      <td>가락쌍용(2차)</td>\n",
       "      <td>59.88</td>\n",
       "      <td>202108</td>\n",
       "      <td>2</td>\n",
       "      <td>121,000</td>\n",
       "      <td>2</td>\n",
       "      <td>1999</td>\n",
       "      <td>송이로15길 31</td>\n",
       "      <td>NaN</td>\n",
       "    </tr>\n",
       "    <tr>\n",
       "      <th>2</th>\n",
       "      <td>서울특별시 송파구 가락동</td>\n",
       "      <td>21-6</td>\n",
       "      <td>21</td>\n",
       "      <td>6</td>\n",
       "      <td>가락쌍용(2차)</td>\n",
       "      <td>84.42</td>\n",
       "      <td>202108</td>\n",
       "      <td>12</td>\n",
       "      <td>135,000</td>\n",
       "      <td>1</td>\n",
       "      <td>1999</td>\n",
       "      <td>송이로15길 31</td>\n",
       "      <td>NaN</td>\n",
       "    </tr>\n",
       "  </tbody>\n",
       "</table>\n",
       "</div>"
      ],
      "text/plain": [
       "             시군구    번지  본번  부번       단지명  전용면적(㎡)    계약년월  계약일 거래금액(만원)  층  \\\n",
       "0  서울특별시 송파구 가락동  95-1  95   1   가락금호아파트    59.91  202108    8  123,000  1   \n",
       "1  서울특별시 송파구 가락동  21-6  21   6  가락쌍용(2차)    59.88  202108    2  121,000  2   \n",
       "2  서울특별시 송파구 가락동  21-6  21   6  가락쌍용(2차)    84.42  202108   12  135,000  1   \n",
       "\n",
       "   건축년도         도로명  해제사유발생일  \n",
       "0  1997  송파대로32길 15      NaN  \n",
       "1  1999   송이로15길 31      NaN  \n",
       "2  1999   송이로15길 31      NaN  "
      ]
     },
     "execution_count": 6,
     "metadata": {},
     "output_type": "execute_result"
    }
   ],
   "source": [
    "df_apt3 = pd.read_csv('data/아파트(매매)__실거래가_20210902153655.csv', skiprows=15, encoding='CP949')\n",
    "df_apt3.head(n=3)"
   ]
  },
  {
   "cell_type": "code",
   "execution_count": 7,
   "metadata": {
    "scrolled": true
   },
   "outputs": [
    {
     "data": {
      "text/html": [
       "<div>\n",
       "<style scoped>\n",
       "    .dataframe tbody tr th:only-of-type {\n",
       "        vertical-align: middle;\n",
       "    }\n",
       "\n",
       "    .dataframe tbody tr th {\n",
       "        vertical-align: top;\n",
       "    }\n",
       "\n",
       "    .dataframe thead th {\n",
       "        text-align: right;\n",
       "    }\n",
       "</style>\n",
       "<table border=\"1\" class=\"dataframe\">\n",
       "  <thead>\n",
       "    <tr style=\"text-align: right;\">\n",
       "      <th></th>\n",
       "      <th>시군구</th>\n",
       "      <th>번지</th>\n",
       "      <th>본번</th>\n",
       "      <th>부번</th>\n",
       "      <th>단지명</th>\n",
       "      <th>전용면적(㎡)</th>\n",
       "      <th>계약년월</th>\n",
       "      <th>계약일</th>\n",
       "      <th>거래금액(만원)</th>\n",
       "      <th>층</th>\n",
       "      <th>건축년도</th>\n",
       "      <th>도로명</th>\n",
       "      <th>해제사유발생일</th>\n",
       "    </tr>\n",
       "  </thead>\n",
       "  <tbody>\n",
       "    <tr>\n",
       "      <th>0</th>\n",
       "      <td>서울특별시 강남구 개포동</td>\n",
       "      <td>1282</td>\n",
       "      <td>1282</td>\n",
       "      <td>0</td>\n",
       "      <td>개포래미안포레스트</td>\n",
       "      <td>59.9200</td>\n",
       "      <td>202108</td>\n",
       "      <td>21</td>\n",
       "      <td>199,500</td>\n",
       "      <td>6</td>\n",
       "      <td>2020</td>\n",
       "      <td>개포로 264</td>\n",
       "      <td>NaN</td>\n",
       "    </tr>\n",
       "    <tr>\n",
       "      <th>1</th>\n",
       "      <td>서울특별시 강남구 개포동</td>\n",
       "      <td>185</td>\n",
       "      <td>185</td>\n",
       "      <td>0</td>\n",
       "      <td>개포주공 7단지</td>\n",
       "      <td>83.7000</td>\n",
       "      <td>202108</td>\n",
       "      <td>20</td>\n",
       "      <td>280,000</td>\n",
       "      <td>2</td>\n",
       "      <td>1983</td>\n",
       "      <td>개포로 516</td>\n",
       "      <td>NaN</td>\n",
       "    </tr>\n",
       "    <tr>\n",
       "      <th>2</th>\n",
       "      <td>서울특별시 강남구 개포동</td>\n",
       "      <td>138</td>\n",
       "      <td>138</td>\n",
       "      <td>0</td>\n",
       "      <td>디에이치아너힐즈</td>\n",
       "      <td>59.8732</td>\n",
       "      <td>202108</td>\n",
       "      <td>17</td>\n",
       "      <td>233,000</td>\n",
       "      <td>4</td>\n",
       "      <td>2019</td>\n",
       "      <td>삼성로 11</td>\n",
       "      <td>NaN</td>\n",
       "    </tr>\n",
       "    <tr>\n",
       "      <th>3</th>\n",
       "      <td>서울특별시 강남구 개포동</td>\n",
       "      <td>1280</td>\n",
       "      <td>1280</td>\n",
       "      <td>0</td>\n",
       "      <td>래미안블레스티지</td>\n",
       "      <td>59.9670</td>\n",
       "      <td>202108</td>\n",
       "      <td>14</td>\n",
       "      <td>227,000</td>\n",
       "      <td>10</td>\n",
       "      <td>2019</td>\n",
       "      <td>선릉로 8</td>\n",
       "      <td>NaN</td>\n",
       "    </tr>\n",
       "    <tr>\n",
       "      <th>4</th>\n",
       "      <td>서울특별시 강남구 개포동</td>\n",
       "      <td>12</td>\n",
       "      <td>12</td>\n",
       "      <td>0</td>\n",
       "      <td>성원대치2단지아파트</td>\n",
       "      <td>49.8600</td>\n",
       "      <td>202108</td>\n",
       "      <td>1</td>\n",
       "      <td>169,000</td>\n",
       "      <td>10</td>\n",
       "      <td>1992</td>\n",
       "      <td>개포로109길 9</td>\n",
       "      <td>NaN</td>\n",
       "    </tr>\n",
       "    <tr>\n",
       "      <th>...</th>\n",
       "      <td>...</td>\n",
       "      <td>...</td>\n",
       "      <td>...</td>\n",
       "      <td>...</td>\n",
       "      <td>...</td>\n",
       "      <td>...</td>\n",
       "      <td>...</td>\n",
       "      <td>...</td>\n",
       "      <td>...</td>\n",
       "      <td>...</td>\n",
       "      <td>...</td>\n",
       "      <td>...</td>\n",
       "      <td>...</td>\n",
       "    </tr>\n",
       "    <tr>\n",
       "      <th>71</th>\n",
       "      <td>서울특별시 송파구 풍납동</td>\n",
       "      <td>220-2</td>\n",
       "      <td>220</td>\n",
       "      <td>2</td>\n",
       "      <td>신동아파밀리에</td>\n",
       "      <td>59.3600</td>\n",
       "      <td>202108</td>\n",
       "      <td>1</td>\n",
       "      <td>85,900</td>\n",
       "      <td>8</td>\n",
       "      <td>1993</td>\n",
       "      <td>풍성로6길 15</td>\n",
       "      <td>NaN</td>\n",
       "    </tr>\n",
       "    <tr>\n",
       "      <th>72</th>\n",
       "      <td>서울특별시 송파구 풍납동</td>\n",
       "      <td>510</td>\n",
       "      <td>510</td>\n",
       "      <td>0</td>\n",
       "      <td>신성노바빌아파트</td>\n",
       "      <td>59.7800</td>\n",
       "      <td>202108</td>\n",
       "      <td>16</td>\n",
       "      <td>98,500</td>\n",
       "      <td>15</td>\n",
       "      <td>2000</td>\n",
       "      <td>한가람로 468</td>\n",
       "      <td>NaN</td>\n",
       "    </tr>\n",
       "    <tr>\n",
       "      <th>73</th>\n",
       "      <td>서울특별시 송파구 풍납동</td>\n",
       "      <td>401-1</td>\n",
       "      <td>401</td>\n",
       "      <td>1</td>\n",
       "      <td>쌍용</td>\n",
       "      <td>84.8500</td>\n",
       "      <td>202108</td>\n",
       "      <td>11</td>\n",
       "      <td>143,000</td>\n",
       "      <td>15</td>\n",
       "      <td>1994</td>\n",
       "      <td>올림픽로47길 12</td>\n",
       "      <td>NaN</td>\n",
       "    </tr>\n",
       "    <tr>\n",
       "      <th>74</th>\n",
       "      <td>서울특별시 송파구 풍납동</td>\n",
       "      <td>508</td>\n",
       "      <td>508</td>\n",
       "      <td>0</td>\n",
       "      <td>한강극동</td>\n",
       "      <td>84.7600</td>\n",
       "      <td>202108</td>\n",
       "      <td>25</td>\n",
       "      <td>111,000</td>\n",
       "      <td>11</td>\n",
       "      <td>1995</td>\n",
       "      <td>토성로 38-6</td>\n",
       "      <td>NaN</td>\n",
       "    </tr>\n",
       "    <tr>\n",
       "      <th>75</th>\n",
       "      <td>서울특별시 송파구 풍납동</td>\n",
       "      <td>260</td>\n",
       "      <td>260</td>\n",
       "      <td>0</td>\n",
       "      <td>현대리버빌1지구</td>\n",
       "      <td>43.2000</td>\n",
       "      <td>202108</td>\n",
       "      <td>7</td>\n",
       "      <td>71,500</td>\n",
       "      <td>1</td>\n",
       "      <td>1999</td>\n",
       "      <td>토성로 37</td>\n",
       "      <td>NaN</td>\n",
       "    </tr>\n",
       "  </tbody>\n",
       "</table>\n",
       "<p>386 rows × 13 columns</p>\n",
       "</div>"
      ],
      "text/plain": [
       "              시군구     번지    본번  부번         단지명  전용면적(㎡)    계약년월  계약일 거래금액(만원)  \\\n",
       "0   서울특별시 강남구 개포동   1282  1282   0   개포래미안포레스트  59.9200  202108   21  199,500   \n",
       "1   서울특별시 강남구 개포동    185   185   0    개포주공 7단지  83.7000  202108   20  280,000   \n",
       "2   서울특별시 강남구 개포동    138   138   0    디에이치아너힐즈  59.8732  202108   17  233,000   \n",
       "3   서울특별시 강남구 개포동   1280  1280   0    래미안블레스티지  59.9670  202108   14  227,000   \n",
       "4   서울특별시 강남구 개포동     12    12   0  성원대치2단지아파트  49.8600  202108    1  169,000   \n",
       "..            ...    ...   ...  ..         ...      ...     ...  ...      ...   \n",
       "71  서울특별시 송파구 풍납동  220-2   220   2     신동아파밀리에  59.3600  202108    1   85,900   \n",
       "72  서울특별시 송파구 풍납동    510   510   0    신성노바빌아파트  59.7800  202108   16   98,500   \n",
       "73  서울특별시 송파구 풍납동  401-1   401   1          쌍용  84.8500  202108   11  143,000   \n",
       "74  서울특별시 송파구 풍납동    508   508   0        한강극동  84.7600  202108   25  111,000   \n",
       "75  서울특별시 송파구 풍납동    260   260   0    현대리버빌1지구  43.2000  202108    7   71,500   \n",
       "\n",
       "     층  건축년도         도로명  해제사유발생일  \n",
       "0    6  2020     개포로 264      NaN  \n",
       "1    2  1983     개포로 516      NaN  \n",
       "2    4  2019      삼성로 11      NaN  \n",
       "3   10  2019       선릉로 8      NaN  \n",
       "4   10  1992   개포로109길 9      NaN  \n",
       "..  ..   ...         ...      ...  \n",
       "71   8  1993    풍성로6길 15      NaN  \n",
       "72  15  2000    한가람로 468      NaN  \n",
       "73  15  1994  올림픽로47길 12      NaN  \n",
       "74  11  1995    토성로 38-6      NaN  \n",
       "75   1  1999      토성로 37      NaN  \n",
       "\n",
       "[386 rows x 13 columns]"
      ]
     },
     "execution_count": 7,
     "metadata": {},
     "output_type": "execute_result"
    }
   ],
   "source": [
    "df_apt = pd.concat([df_apt1, df_apt2, df_apt3])\n",
    "df_apt"
   ]
  },
  {
   "cell_type": "markdown",
   "metadata": {},
   "source": [
    "<br>\n",
    "\n",
    "**DataFrame**에서 행 번호에 해당하는 **index**는 꽤 중요한 역할을 합니다. 예를 들어 아래처럼 index를 확인할 수 있고, 특정 index를 지정해서 관측치를 선택하는 것도 가능합니다. "
   ]
  },
  {
   "cell_type": "code",
   "execution_count": null,
   "metadata": {},
   "outputs": [],
   "source": [
    "df_apt.index"
   ]
  },
  {
   "cell_type": "code",
   "execution_count": null,
   "metadata": {},
   "outputs": [],
   "source": [
    "# index 0 관측치 선택\n",
    "df_apt.loc[0]"
   ]
  },
  {
   "cell_type": "markdown",
   "metadata": {},
   "source": [
    "위의 실행된 결과를 보면 **0** 이라는 인덱스를 가진 관측치가 세개나 되는 것을 볼 수 있습니다. 결합 이전의 기존 데이터 인덱스를 그대로 사용하기 때문인데요, 행 결합이나 정렬 이후 인덱스를 재지정하거나 초기화 해주는 것이 좋습니다. \n"
   ]
  },
  {
   "cell_type": "code",
   "execution_count": 8,
   "metadata": {},
   "outputs": [
    {
     "data": {
      "text/html": [
       "<div>\n",
       "<style scoped>\n",
       "    .dataframe tbody tr th:only-of-type {\n",
       "        vertical-align: middle;\n",
       "    }\n",
       "\n",
       "    .dataframe tbody tr th {\n",
       "        vertical-align: top;\n",
       "    }\n",
       "\n",
       "    .dataframe thead th {\n",
       "        text-align: right;\n",
       "    }\n",
       "</style>\n",
       "<table border=\"1\" class=\"dataframe\">\n",
       "  <thead>\n",
       "    <tr style=\"text-align: right;\">\n",
       "      <th></th>\n",
       "      <th>시군구</th>\n",
       "      <th>번지</th>\n",
       "      <th>본번</th>\n",
       "      <th>부번</th>\n",
       "      <th>단지명</th>\n",
       "      <th>전용면적(㎡)</th>\n",
       "      <th>계약년월</th>\n",
       "      <th>계약일</th>\n",
       "      <th>거래금액(만원)</th>\n",
       "      <th>층</th>\n",
       "      <th>건축년도</th>\n",
       "      <th>도로명</th>\n",
       "      <th>해제사유발생일</th>\n",
       "    </tr>\n",
       "  </thead>\n",
       "  <tbody>\n",
       "    <tr>\n",
       "      <th>0</th>\n",
       "      <td>서울특별시 강남구 개포동</td>\n",
       "      <td>1282</td>\n",
       "      <td>1282</td>\n",
       "      <td>0</td>\n",
       "      <td>개포래미안포레스트</td>\n",
       "      <td>59.9200</td>\n",
       "      <td>202108</td>\n",
       "      <td>21</td>\n",
       "      <td>199,500</td>\n",
       "      <td>6</td>\n",
       "      <td>2020</td>\n",
       "      <td>개포로 264</td>\n",
       "      <td>NaN</td>\n",
       "    </tr>\n",
       "    <tr>\n",
       "      <th>1</th>\n",
       "      <td>서울특별시 강남구 개포동</td>\n",
       "      <td>185</td>\n",
       "      <td>185</td>\n",
       "      <td>0</td>\n",
       "      <td>개포주공 7단지</td>\n",
       "      <td>83.7000</td>\n",
       "      <td>202108</td>\n",
       "      <td>20</td>\n",
       "      <td>280,000</td>\n",
       "      <td>2</td>\n",
       "      <td>1983</td>\n",
       "      <td>개포로 516</td>\n",
       "      <td>NaN</td>\n",
       "    </tr>\n",
       "    <tr>\n",
       "      <th>2</th>\n",
       "      <td>서울특별시 강남구 개포동</td>\n",
       "      <td>138</td>\n",
       "      <td>138</td>\n",
       "      <td>0</td>\n",
       "      <td>디에이치아너힐즈</td>\n",
       "      <td>59.8732</td>\n",
       "      <td>202108</td>\n",
       "      <td>17</td>\n",
       "      <td>233,000</td>\n",
       "      <td>4</td>\n",
       "      <td>2019</td>\n",
       "      <td>삼성로 11</td>\n",
       "      <td>NaN</td>\n",
       "    </tr>\n",
       "    <tr>\n",
       "      <th>3</th>\n",
       "      <td>서울특별시 강남구 개포동</td>\n",
       "      <td>1280</td>\n",
       "      <td>1280</td>\n",
       "      <td>0</td>\n",
       "      <td>래미안블레스티지</td>\n",
       "      <td>59.9670</td>\n",
       "      <td>202108</td>\n",
       "      <td>14</td>\n",
       "      <td>227,000</td>\n",
       "      <td>10</td>\n",
       "      <td>2019</td>\n",
       "      <td>선릉로 8</td>\n",
       "      <td>NaN</td>\n",
       "    </tr>\n",
       "    <tr>\n",
       "      <th>4</th>\n",
       "      <td>서울특별시 강남구 개포동</td>\n",
       "      <td>12</td>\n",
       "      <td>12</td>\n",
       "      <td>0</td>\n",
       "      <td>성원대치2단지아파트</td>\n",
       "      <td>49.8600</td>\n",
       "      <td>202108</td>\n",
       "      <td>1</td>\n",
       "      <td>169,000</td>\n",
       "      <td>10</td>\n",
       "      <td>1992</td>\n",
       "      <td>개포로109길 9</td>\n",
       "      <td>NaN</td>\n",
       "    </tr>\n",
       "    <tr>\n",
       "      <th>...</th>\n",
       "      <td>...</td>\n",
       "      <td>...</td>\n",
       "      <td>...</td>\n",
       "      <td>...</td>\n",
       "      <td>...</td>\n",
       "      <td>...</td>\n",
       "      <td>...</td>\n",
       "      <td>...</td>\n",
       "      <td>...</td>\n",
       "      <td>...</td>\n",
       "      <td>...</td>\n",
       "      <td>...</td>\n",
       "      <td>...</td>\n",
       "    </tr>\n",
       "    <tr>\n",
       "      <th>381</th>\n",
       "      <td>서울특별시 송파구 풍납동</td>\n",
       "      <td>220-2</td>\n",
       "      <td>220</td>\n",
       "      <td>2</td>\n",
       "      <td>신동아파밀리에</td>\n",
       "      <td>59.3600</td>\n",
       "      <td>202108</td>\n",
       "      <td>1</td>\n",
       "      <td>85,900</td>\n",
       "      <td>8</td>\n",
       "      <td>1993</td>\n",
       "      <td>풍성로6길 15</td>\n",
       "      <td>NaN</td>\n",
       "    </tr>\n",
       "    <tr>\n",
       "      <th>382</th>\n",
       "      <td>서울특별시 송파구 풍납동</td>\n",
       "      <td>510</td>\n",
       "      <td>510</td>\n",
       "      <td>0</td>\n",
       "      <td>신성노바빌아파트</td>\n",
       "      <td>59.7800</td>\n",
       "      <td>202108</td>\n",
       "      <td>16</td>\n",
       "      <td>98,500</td>\n",
       "      <td>15</td>\n",
       "      <td>2000</td>\n",
       "      <td>한가람로 468</td>\n",
       "      <td>NaN</td>\n",
       "    </tr>\n",
       "    <tr>\n",
       "      <th>383</th>\n",
       "      <td>서울특별시 송파구 풍납동</td>\n",
       "      <td>401-1</td>\n",
       "      <td>401</td>\n",
       "      <td>1</td>\n",
       "      <td>쌍용</td>\n",
       "      <td>84.8500</td>\n",
       "      <td>202108</td>\n",
       "      <td>11</td>\n",
       "      <td>143,000</td>\n",
       "      <td>15</td>\n",
       "      <td>1994</td>\n",
       "      <td>올림픽로47길 12</td>\n",
       "      <td>NaN</td>\n",
       "    </tr>\n",
       "    <tr>\n",
       "      <th>384</th>\n",
       "      <td>서울특별시 송파구 풍납동</td>\n",
       "      <td>508</td>\n",
       "      <td>508</td>\n",
       "      <td>0</td>\n",
       "      <td>한강극동</td>\n",
       "      <td>84.7600</td>\n",
       "      <td>202108</td>\n",
       "      <td>25</td>\n",
       "      <td>111,000</td>\n",
       "      <td>11</td>\n",
       "      <td>1995</td>\n",
       "      <td>토성로 38-6</td>\n",
       "      <td>NaN</td>\n",
       "    </tr>\n",
       "    <tr>\n",
       "      <th>385</th>\n",
       "      <td>서울특별시 송파구 풍납동</td>\n",
       "      <td>260</td>\n",
       "      <td>260</td>\n",
       "      <td>0</td>\n",
       "      <td>현대리버빌1지구</td>\n",
       "      <td>43.2000</td>\n",
       "      <td>202108</td>\n",
       "      <td>7</td>\n",
       "      <td>71,500</td>\n",
       "      <td>1</td>\n",
       "      <td>1999</td>\n",
       "      <td>토성로 37</td>\n",
       "      <td>NaN</td>\n",
       "    </tr>\n",
       "  </tbody>\n",
       "</table>\n",
       "<p>386 rows × 13 columns</p>\n",
       "</div>"
      ],
      "text/plain": [
       "               시군구     번지    본번  부번         단지명  전용면적(㎡)    계약년월  계약일  \\\n",
       "0    서울특별시 강남구 개포동   1282  1282   0   개포래미안포레스트  59.9200  202108   21   \n",
       "1    서울특별시 강남구 개포동    185   185   0    개포주공 7단지  83.7000  202108   20   \n",
       "2    서울특별시 강남구 개포동    138   138   0    디에이치아너힐즈  59.8732  202108   17   \n",
       "3    서울특별시 강남구 개포동   1280  1280   0    래미안블레스티지  59.9670  202108   14   \n",
       "4    서울특별시 강남구 개포동     12    12   0  성원대치2단지아파트  49.8600  202108    1   \n",
       "..             ...    ...   ...  ..         ...      ...     ...  ...   \n",
       "381  서울특별시 송파구 풍납동  220-2   220   2     신동아파밀리에  59.3600  202108    1   \n",
       "382  서울특별시 송파구 풍납동    510   510   0    신성노바빌아파트  59.7800  202108   16   \n",
       "383  서울특별시 송파구 풍납동  401-1   401   1          쌍용  84.8500  202108   11   \n",
       "384  서울특별시 송파구 풍납동    508   508   0        한강극동  84.7600  202108   25   \n",
       "385  서울특별시 송파구 풍납동    260   260   0    현대리버빌1지구  43.2000  202108    7   \n",
       "\n",
       "    거래금액(만원)   층  건축년도         도로명  해제사유발생일  \n",
       "0    199,500   6  2020     개포로 264      NaN  \n",
       "1    280,000   2  1983     개포로 516      NaN  \n",
       "2    233,000   4  2019      삼성로 11      NaN  \n",
       "3    227,000  10  2019       선릉로 8      NaN  \n",
       "4    169,000  10  1992   개포로109길 9      NaN  \n",
       "..       ...  ..   ...         ...      ...  \n",
       "381   85,900   8  1993    풍성로6길 15      NaN  \n",
       "382   98,500  15  2000    한가람로 468      NaN  \n",
       "383  143,000  15  1994  올림픽로47길 12      NaN  \n",
       "384  111,000  11  1995    토성로 38-6      NaN  \n",
       "385   71,500   1  1999      토성로 37      NaN  \n",
       "\n",
       "[386 rows x 13 columns]"
      ]
     },
     "execution_count": 8,
     "metadata": {},
     "output_type": "execute_result"
    }
   ],
   "source": [
    "# reset_index()을 활용한 index 초기화\n",
    "    ## drop=True: 기존 인덱스를 변수로 추가할 지 버릴지 선택\n",
    "df_apt = df_apt.reset_index(drop=True)\n",
    "df_apt"
   ]
  },
  {
   "cell_type": "code",
   "execution_count": null,
   "metadata": {},
   "outputs": [],
   "source": [
    "# index 0 관측치 재선택\n",
    "df_apt.loc[0]"
   ]
  },
  {
   "cell_type": "code",
   "execution_count": null,
   "metadata": {},
   "outputs": [],
   "source": []
  },
  {
   "cell_type": "markdown",
   "metadata": {},
   "source": [
    "#### [실습]  데이터 결합 및 인덱스 초기화\n",
    "\n",
    "출처 : [서울시 지하철 호선별 역별 승하차 인원수](http://data.seoul.go.kr/dataList/OA-12914/S/1/datasetView.do)\n",
    "\n",
    "1. `data`폴더의 `CARD_SUBWAY_MONTH_`로 시작하는 3개 데이터 확인하기  \n",
    "    \n",
    "\n",
    "\n",
    "2. 1.의 데이터를 각각 불러와서 저장하고, pd.concat()으로 행 결합하기(encoding='CP949' 활용)\n",
    "\n",
    "\n",
    "3. index 초기화 하기\n",
    "\n"
   ]
  },
  {
   "cell_type": "code",
   "execution_count": 10,
   "metadata": {},
   "outputs": [],
   "source": [
    "df_test1=pd.read_csv('data/CARD_SUBWAY_MONTH_201907.csv',encoding='CP949')\n",
    "df_test2=pd.read_csv('data/CARD_SUBWAY_MONTH_202007.csv',encoding='CP949')\n",
    "df_test3=pd.read_csv('data/CARD_SUBWAY_MONTH_202107.csv',encoding='CP949')\n"
   ]
  },
  {
   "cell_type": "code",
   "execution_count": 15,
   "metadata": {},
   "outputs": [
    {
     "data": {
      "text/html": [
       "<div>\n",
       "<style scoped>\n",
       "    .dataframe tbody tr th:only-of-type {\n",
       "        vertical-align: middle;\n",
       "    }\n",
       "\n",
       "    .dataframe tbody tr th {\n",
       "        vertical-align: top;\n",
       "    }\n",
       "\n",
       "    .dataframe thead th {\n",
       "        text-align: right;\n",
       "    }\n",
       "</style>\n",
       "<table border=\"1\" class=\"dataframe\">\n",
       "  <thead>\n",
       "    <tr style=\"text-align: right;\">\n",
       "      <th></th>\n",
       "      <th>사용일자</th>\n",
       "      <th>노선명</th>\n",
       "      <th>역명</th>\n",
       "      <th>승차총승객수</th>\n",
       "      <th>하차총승객수</th>\n",
       "      <th>등록일자</th>\n",
       "    </tr>\n",
       "  </thead>\n",
       "  <tbody>\n",
       "    <tr>\n",
       "      <th>0</th>\n",
       "      <td>20190701</td>\n",
       "      <td>1호선</td>\n",
       "      <td>종로3가</td>\n",
       "      <td>34944.0</td>\n",
       "      <td>32751.0</td>\n",
       "      <td>20190704</td>\n",
       "    </tr>\n",
       "    <tr>\n",
       "      <th>1</th>\n",
       "      <td>20190701</td>\n",
       "      <td>1호선</td>\n",
       "      <td>종로5가</td>\n",
       "      <td>28640.0</td>\n",
       "      <td>28862.0</td>\n",
       "      <td>20190704</td>\n",
       "    </tr>\n",
       "    <tr>\n",
       "      <th>2</th>\n",
       "      <td>20190701</td>\n",
       "      <td>1호선</td>\n",
       "      <td>동대문</td>\n",
       "      <td>14793.0</td>\n",
       "      <td>16182.0</td>\n",
       "      <td>20190704</td>\n",
       "    </tr>\n",
       "    <tr>\n",
       "      <th>3</th>\n",
       "      <td>20190701</td>\n",
       "      <td>1호선</td>\n",
       "      <td>신설동</td>\n",
       "      <td>17911.0</td>\n",
       "      <td>17483.0</td>\n",
       "      <td>20190704</td>\n",
       "    </tr>\n",
       "    <tr>\n",
       "      <th>4</th>\n",
       "      <td>20190701</td>\n",
       "      <td>1호선</td>\n",
       "      <td>제기동</td>\n",
       "      <td>21946.0</td>\n",
       "      <td>22345.0</td>\n",
       "      <td>20190704</td>\n",
       "    </tr>\n",
       "    <tr>\n",
       "      <th>...</th>\n",
       "      <td>...</td>\n",
       "      <td>...</td>\n",
       "      <td>...</td>\n",
       "      <td>...</td>\n",
       "      <td>...</td>\n",
       "      <td>...</td>\n",
       "    </tr>\n",
       "    <tr>\n",
       "      <th>55261</th>\n",
       "      <td>20210731</td>\n",
       "      <td>경원선</td>\n",
       "      <td>청량리(서울시립대입구)</td>\n",
       "      <td>11320.0</td>\n",
       "      <td>13138.0</td>\n",
       "      <td>20210803</td>\n",
       "    </tr>\n",
       "    <tr>\n",
       "      <th>55262</th>\n",
       "      <td>20210731</td>\n",
       "      <td>경원선</td>\n",
       "      <td>외대앞</td>\n",
       "      <td>4261.0</td>\n",
       "      <td>4279.0</td>\n",
       "      <td>20210803</td>\n",
       "    </tr>\n",
       "    <tr>\n",
       "      <th>55263</th>\n",
       "      <td>20210731</td>\n",
       "      <td>경원선</td>\n",
       "      <td>신이문</td>\n",
       "      <td>4666.0</td>\n",
       "      <td>4313.0</td>\n",
       "      <td>20210803</td>\n",
       "    </tr>\n",
       "    <tr>\n",
       "      <th>55264</th>\n",
       "      <td>20210731</td>\n",
       "      <td>2호선</td>\n",
       "      <td>용두(동대문구청)</td>\n",
       "      <td>1292.0</td>\n",
       "      <td>1364.0</td>\n",
       "      <td>20210803</td>\n",
       "    </tr>\n",
       "    <tr>\n",
       "      <th>55265</th>\n",
       "      <td>20210731</td>\n",
       "      <td>2호선</td>\n",
       "      <td>신정네거리</td>\n",
       "      <td>5350.0</td>\n",
       "      <td>5383.0</td>\n",
       "      <td>20210803</td>\n",
       "    </tr>\n",
       "  </tbody>\n",
       "</table>\n",
       "<p>55266 rows × 6 columns</p>\n",
       "</div>"
      ],
      "text/plain": [
       "           사용일자  노선명            역명   승차총승객수   하차총승객수      등록일자\n",
       "0      20190701  1호선          종로3가  34944.0  32751.0  20190704\n",
       "1      20190701  1호선          종로5가  28640.0  28862.0  20190704\n",
       "2      20190701  1호선           동대문  14793.0  16182.0  20190704\n",
       "3      20190701  1호선           신설동  17911.0  17483.0  20190704\n",
       "4      20190701  1호선           제기동  21946.0  22345.0  20190704\n",
       "...         ...  ...           ...      ...      ...       ...\n",
       "55261  20210731  경원선  청량리(서울시립대입구)  11320.0  13138.0  20210803\n",
       "55262  20210731  경원선           외대앞   4261.0   4279.0  20210803\n",
       "55263  20210731  경원선           신이문   4666.0   4313.0  20210803\n",
       "55264  20210731  2호선     용두(동대문구청)   1292.0   1364.0  20210803\n",
       "55265  20210731  2호선         신정네거리   5350.0   5383.0  20210803\n",
       "\n",
       "[55266 rows x 6 columns]"
      ]
     },
     "execution_count": 15,
     "metadata": {},
     "output_type": "execute_result"
    }
   ],
   "source": [
    "df_test = pd.concat([df_test1,df_test2,df_test3])\n",
    "df_test = df_test.reset_index(drop=True)\n",
    "df_test"
   ]
  },
  {
   "cell_type": "markdown",
   "metadata": {},
   "source": [
    "<br>\n",
    "\n",
    "### 2.2. merge()를 활용한 KEY 변수 기준 결합 \n",
    "일반적인 분석에서는 SQL의 JOIN, Excel의 VLOOKUP()과 같은 방법으로 KEY 변수를 활용한 데이터 결합을 자주 활용합니다.  \n",
    "이 때, `merge()`를 활용합니다. "
   ]
  },
  {
   "cell_type": "code",
   "execution_count": null,
   "metadata": {},
   "outputs": [],
   "source": [
    "# 예제 데이터 불러오기\n",
    "df_left  = pd.read_csv('data/data_left.csv')\n",
    "df_right = pd.read_csv('data/data_right.csv')"
   ]
  },
  {
   "cell_type": "code",
   "execution_count": null,
   "metadata": {},
   "outputs": [],
   "source": [
    "df_left"
   ]
  },
  {
   "cell_type": "code",
   "execution_count": null,
   "metadata": {},
   "outputs": [],
   "source": [
    "df_right"
   ]
  },
  {
   "cell_type": "markdown",
   "metadata": {},
   "source": [
    "<br>\n",
    "\n",
    "key를 활용한 데이터 결합에서는 일치하는 key가 있는, 짝이 있는 관측치만 출력하는 것이 기본값으로 설정되어 있습니다. SQL에서는 이것을 **inner join**이라고 부릅니다.  \n",
    "\n",
    "*merge()*에서 `how=` 옵션을 활용해서 다음과 같은 데이터 결합도 가능합니다.\n",
    "\n",
    "+ `inner`: inner join. key 기준 일치하는 관측치만 포함\n",
    "+ `left`:  left join. inner join의 결과물과 왼쪽 데이터의 짝 없는 관측치 포함\n",
    "+ `right`: right join. inner join의 결과물과 오른쪽 데이터의 짝 없는 관측치 포함\n",
    "+ `outer`: full outer join. inner join과 양쪽 데이터의 짝이 없는 모든 관측치 포함"
   ]
  },
  {
   "cell_type": "code",
   "execution_count": null,
   "metadata": {},
   "outputs": [],
   "source": [
    "# merge()를 활용한 결합\n",
    "pd.merge(df_left, df_right, how='inner', on='category')"
   ]
  },
  {
   "cell_type": "code",
   "execution_count": null,
   "metadata": {},
   "outputs": [],
   "source": [
    "# left join\n",
    "pd.merge(df_left, df_right, how='left', on='category')"
   ]
  },
  {
   "cell_type": "code",
   "execution_count": null,
   "metadata": {},
   "outputs": [],
   "source": [
    "# right join\n",
    "pd.merge(df_left, df_right, how='right', on='category')"
   ]
  },
  {
   "cell_type": "code",
   "execution_count": null,
   "metadata": {},
   "outputs": [],
   "source": [
    "# full outer join\n",
    "pd.merge(df_left, df_right, how='outer', on='category')"
   ]
  },
  {
   "cell_type": "code",
   "execution_count": null,
   "metadata": {},
   "outputs": [],
   "source": []
  },
  {
   "cell_type": "code",
   "execution_count": null,
   "metadata": {},
   "outputs": [],
   "source": []
  },
  {
   "cell_type": "markdown",
   "metadata": {},
   "source": [
    "<br>\n",
    "<hr>\n",
    "<br>\n",
    "\n",
    "\n",
    "## 3. 데이터 부분 선택\n",
    "\n",
    "데이터 분석 과정에서 회사의 모든 데이터를 활용하지 않습니다. 주제와 기간, 사이트, 제품, 공정 등 본인의 업무와 관련이 있는 일부 데이터만 선택합니다. SQL이나 Excel과 같은 도구를 활용해서 데이터 추출하거나 생성하면서 이미 적합한 데이터가 선택되어 있지만 Python에서 각 분석 과정에서 맞게 부분 데이터를 다시 선택하고 사용합니다.  \n",
    "\n",
    "데이터의 일부를 선택하는 다양한 방법을 살펴보겠습니다. \n",
    "\n",
    "<br> "
   ]
  },
  {
   "cell_type": "code",
   "execution_count": null,
   "metadata": {},
   "outputs": [],
   "source": [
    "# 예제 데이터 불러오기\n",
    "import pandas as pd\n",
    "df_ins = pd.read_csv('data/insurance.csv')\n",
    "df_ins.head()"
   ]
  },
  {
   "cell_type": "markdown",
   "metadata": {},
   "source": [
    "<br>\n",
    "\n",
    "### 3.1. .을 활용한 변수 선택\n",
    "\n",
    "DataFrame 뒤에 마침표(.)를 찍고 `Tab` 키를 누르면 DataFrame의 메서드들과 함께 변수이름을 확인할 수 있습니다. .은 가장 간단한 변수 선택 방법입니다.  \n",
    "\n",
    "이렇게 선택된 변수는 **Series** 형식으로 선택되어 출력됩니다. "
   ]
  },
  {
   "cell_type": "code",
   "execution_count": null,
   "metadata": {},
   "outputs": [],
   "source": [
    "# .을 활용한 하나의 변수 선택\n",
    "df_ins.age"
   ]
  },
  {
   "cell_type": "markdown",
   "metadata": {},
   "source": [
    "<br>\n",
    "\n",
    "\n",
    "### 3.2. 대괄호를 활용한 데이터 부분 선택\n",
    "\n",
    "불러온 데이터 뒤에 대괄호를 붙이고 슬라이스:로 관측치 번호를 지정하거나 따옴표''로 변수 이름을 넣어 \n",
    "데이터 부분을 선택할 수 있습니다.  \n",
    "변수 이름을 리스트 형식으로 묶어 넣어 여러개 변수를 한번에 선택할 수도 있습니다. "
   ]
  },
  {
   "cell_type": "code",
   "execution_count": null,
   "metadata": {},
   "outputs": [],
   "source": [
    "# 관측치 선택\n",
    "df_ins[0:3]"
   ]
  },
  {
   "cell_type": "code",
   "execution_count": null,
   "metadata": {},
   "outputs": [],
   "source": [
    "# 한 변수 선택 \n",
    "df_ins['age']"
   ]
  },
  {
   "cell_type": "code",
   "execution_count": null,
   "metadata": {},
   "outputs": [],
   "source": [
    "# 리스트를 활용한 복수 변수 선택\n",
    "df_ins[['age','smoker','charges']]"
   ]
  },
  {
   "cell_type": "code",
   "execution_count": null,
   "metadata": {},
   "outputs": [],
   "source": [
    "# 연속된 대괄호 활용가능\n",
    "df_ins[0:5][['age','smoker','charges']]"
   ]
  },
  {
   "cell_type": "markdown",
   "metadata": {},
   "source": [
    "<br>\n",
    "\n",
    "#### [실습]  \n",
    "\n",
    "1. 아래의 명령어를 실행해서 df_subway 데이터 생성하기 \n",
    "\n",
    "2. .columns 메서드를 활용해서 변수이름 확인하기\n",
    "\n",
    "3. 슬라이스를 활용하여 11~15번째 관측치 선택하기\n",
    "\n",
    "4. '사용일자', '역명', '하차총승객수' 세 변수 선택하기\n",
    "\n",
    "\n",
    "\n",
    "    "
   ]
  },
  {
   "cell_type": "code",
   "execution_count": null,
   "metadata": {},
   "outputs": [],
   "source": [
    "df_sw1907 = pd.read_csv('./data/CARD_SUBWAY_MONTH_201907.csv', encoding='CP949')\n",
    "df_sw2007 = pd.read_csv('./data/CARD_SUBWAY_MONTH_202007.csv', encoding='CP949')\n",
    "df_sw2107 = pd.read_csv('./data/CARD_SUBWAY_MONTH_202107.csv', encoding='CP949')\n",
    "df_subway = pd.concat([df_sw1907, df_sw2007, df_sw2107])\n",
    "df_subway.sample(n=10)"
   ]
  },
  {
   "cell_type": "code",
   "execution_count": null,
   "metadata": {},
   "outputs": [],
   "source": []
  },
  {
   "cell_type": "code",
   "execution_count": null,
   "metadata": {},
   "outputs": [],
   "source": []
  },
  {
   "cell_type": "code",
   "execution_count": null,
   "metadata": {},
   "outputs": [],
   "source": []
  },
  {
   "cell_type": "code",
   "execution_count": null,
   "metadata": {},
   "outputs": [],
   "source": []
  },
  {
   "cell_type": "markdown",
   "metadata": {},
   "source": [
    "<br>\n",
    "\n",
    "## 3.3. loc과 iloc을 활용한 관측치/변수 선택\n",
    "\n",
    "loc은 행 이름(index)과 열 이름(column)으로 데이터에서 일부를 선택하고, iloc은 정수(integer) 형식의 행 번호, 열 번호를 활용합니다.  \n",
    "\n",
    "두 방법 모두 리스트[ ]나 슬라이스:를 활용한 방법을 지원합니다.\n",
    "\n"
   ]
  },
  {
   "cell_type": "code",
   "execution_count": null,
   "metadata": {},
   "outputs": [],
   "source": [
    "# 실습을 위해 원본 데이터를 복제(copy)하고 부분선택\n",
    "df_ins2 = df_ins.copy()[0:10]\n",
    "df_ins2"
   ]
  },
  {
   "cell_type": "code",
   "execution_count": null,
   "metadata": {},
   "outputs": [],
   "source": [
    "# 실습을 위해 인덱스를 별도로 지정\n",
    "df_ins2['idx'] = list(range(101, 111))\n",
    "df_ins2.set_index('idx', inplace=True)\n",
    "df_ins2"
   ]
  },
  {
   "cell_type": "markdown",
   "metadata": {},
   "source": [
    "<br> \n",
    "\n",
    "### 3.3.1. loc을 활용한 부분 선택\n",
    "\n",
    "loc은 실제로 눈에 보이는 index와 column을 활용합니다. "
   ]
  },
  {
   "cell_type": "code",
   "execution_count": null,
   "metadata": {},
   "outputs": [],
   "source": [
    "df_ins2.loc[101]"
   ]
  },
  {
   "cell_type": "code",
   "execution_count": null,
   "metadata": {},
   "outputs": [],
   "source": [
    "df_ins2.loc[[101, 103]]"
   ]
  },
  {
   "cell_type": "code",
   "execution_count": null,
   "metadata": {},
   "outputs": [],
   "source": [
    "df_ins2.loc[101:103]"
   ]
  },
  {
   "cell_type": "code",
   "execution_count": null,
   "metadata": {},
   "outputs": [],
   "source": [
    "df_ins2.loc[101:103, 'smoker']"
   ]
  },
  {
   "cell_type": "code",
   "execution_count": null,
   "metadata": {},
   "outputs": [],
   "source": [
    "# 변수이름 리스트 활용가능\n",
    "df_ins2.loc[101:103, ['smoker','region']]"
   ]
  },
  {
   "cell_type": "code",
   "execution_count": null,
   "metadata": {},
   "outputs": [],
   "source": [
    "# 변수이름 슬라이스:를 활용 가능 \n",
    "df_ins2.loc[101:103, 'smoker':'charges']"
   ]
  },
  {
   "cell_type": "code",
   "execution_count": null,
   "metadata": {},
   "outputs": [],
   "source": [
    "# 모든 관측치 선택할 때는 :\n",
    "df_ins2.loc[:, 'smoker':'charges']"
   ]
  },
  {
   "cell_type": "markdown",
   "metadata": {},
   "source": [
    "<br> \n",
    "\n",
    "### 3.2.2. iloc을 활용한 부분 선택\n",
    "\n",
    "iloc은 이름과 상관없이 정수로 표현한 위치, 번호를 활용합니다.  \n",
    "리스트나 슬라이스 활용 방법은 loc과 동일합니다. "
   ]
  },
  {
   "cell_type": "code",
   "execution_count": null,
   "metadata": {},
   "outputs": [],
   "source": [
    "df_ins2.iloc[0:3, [0,3,4]]"
   ]
  },
  {
   "cell_type": "code",
   "execution_count": null,
   "metadata": {},
   "outputs": [],
   "source": []
  },
  {
   "cell_type": "markdown",
   "metadata": {},
   "source": [
    "#### [실습] \n",
    "\n",
    "1. df_pr에서 index 기준 '3'의 'Weight' 확인하기\n",
    "2. df_pr에서 index 기준 '11~15'의 'Age'부터 'Exercise'까지 선택하기\n",
    "3. df_pr에서 첫번째 ~ 다섯번째 관측치와 다섯번째 ~ 열번째 변수 선택하기"
   ]
  },
  {
   "cell_type": "code",
   "execution_count": null,
   "metadata": {},
   "outputs": [],
   "source": [
    "df_pr = pd.read_csv('data/PulseRates.csv')\n",
    "df_pr.head()"
   ]
  },
  {
   "cell_type": "code",
   "execution_count": null,
   "metadata": {},
   "outputs": [],
   "source": []
  },
  {
   "cell_type": "code",
   "execution_count": null,
   "metadata": {},
   "outputs": [],
   "source": []
  },
  {
   "cell_type": "code",
   "execution_count": null,
   "metadata": {},
   "outputs": [],
   "source": []
  },
  {
   "cell_type": "code",
   "execution_count": null,
   "metadata": {},
   "outputs": [],
   "source": []
  },
  {
   "cell_type": "markdown",
   "metadata": {},
   "source": [
    "### 3.4. 함수를 활용한 여러 변수 선택 \n",
    "\n",
    "다양한 변수 선택 상황에서 활용할 수 있는 함수들이 있습니다."
   ]
  },
  {
   "cell_type": "code",
   "execution_count": null,
   "metadata": {},
   "outputs": [],
   "source": [
    "# filter( ) 메서드에서 변수 이름 패턴을 활용한 선택 \n",
    "df_ins.filter(regex='^s')\n",
    "    ## regex :  정규표현식(regular expression)\n",
    "    ## '^s' : 's'로 시작하는 이름/텍스트\n",
    "    "
   ]
  },
  {
   "cell_type": "code",
   "execution_count": null,
   "metadata": {},
   "outputs": [],
   "source": [
    "# 변수형식 확인하기\n",
    "df_ins.dtypes\n",
    "    ## int/float : 숫자\n",
    "    ## object : 문자열"
   ]
  },
  {
   "cell_type": "code",
   "execution_count": null,
   "metadata": {},
   "outputs": [],
   "source": [
    "# 수치형 변수만 선택\n",
    "df_ins.select_dtypes(include='number')"
   ]
  },
  {
   "cell_type": "code",
   "execution_count": null,
   "metadata": {},
   "outputs": [],
   "source": [
    "# 문자열 변수만 선택\n",
    "df_ins.select_dtypes(include='object')"
   ]
  },
  {
   "cell_type": "markdown",
   "metadata": {},
   "source": [
    "<br>\n",
    "\n",
    "#### [실습] Student performance 데이터 활용\n",
    "\n",
    "1. df_sp에서 수치형 변수만 선택\n",
    "2. df_sp에서 문자열 변수만 선택\n",
    "3. df_sp에서 이름에 'score'가 들어간 변수만 선택\n"
   ]
  },
  {
   "cell_type": "code",
   "execution_count": null,
   "metadata": {
    "scrolled": true
   },
   "outputs": [],
   "source": [
    "df_sp = pd.read_csv('data/StudentsPerformance.csv')\n",
    "df_sp.head()"
   ]
  },
  {
   "cell_type": "code",
   "execution_count": null,
   "metadata": {},
   "outputs": [],
   "source": []
  },
  {
   "cell_type": "code",
   "execution_count": null,
   "metadata": {},
   "outputs": [],
   "source": []
  },
  {
   "cell_type": "code",
   "execution_count": null,
   "metadata": {},
   "outputs": [],
   "source": []
  },
  {
   "cell_type": "code",
   "execution_count": null,
   "metadata": {},
   "outputs": [],
   "source": []
  },
  {
   "cell_type": "code",
   "execution_count": null,
   "metadata": {},
   "outputs": [],
   "source": []
  },
  {
   "cell_type": "markdown",
   "metadata": {},
   "source": [
    "<br>\n",
    "\n",
    "### 3.5. 조건을 활용한 관측치 선택\n",
    "\n",
    "SQL에서 WHERE 절이나 Excel의 Filter와 같이 데이터에서 부분을 선택할 때 조건을 활용하는 경우가 많습니다. [ ] 인덱스 안에 조건식을 넣어서 조건과 일치하는 관측치만 선택할 수 있습니다."
   ]
  },
  {
   "cell_type": "code",
   "execution_count": null,
   "metadata": {},
   "outputs": [],
   "source": [
    "# 1 단계 : 조건 설정(결과는 True/False)\n",
    "    # bool 타입 Series \n",
    "df_ins['age'] < 30"
   ]
  },
  {
   "cell_type": "code",
   "execution_count": null,
   "metadata": {},
   "outputs": [],
   "source": [
    "# 2 단계 : []와 조건을 활용한 관측치 선택\n",
    "df_ins[df_ins['age'] < 30]"
   ]
  },
  {
   "cell_type": "code",
   "execution_count": null,
   "metadata": {},
   "outputs": [],
   "source": [
    "# &와 |를 활용한 조건 결합\n",
    "df_ins[(df_ins['age'] < 30) & (df_ins['sex'] == 'female')]"
   ]
  },
  {
   "cell_type": "code",
   "execution_count": null,
   "metadata": {},
   "outputs": [],
   "source": [
    "df_ins[(df_ins['age'] < 30) | (df_ins['sex'] == 'female')]"
   ]
  },
  {
   "cell_type": "markdown",
   "metadata": {},
   "source": [
    "<br> \n",
    "\n",
    "특히 비즈니스 데이터는 범주화, 그룹화된 변수들이 많고, 수많은 담당자들이 그 중 일부 범주, 그룹, 수준을 나눠서 운영하는 경우가 많습니다. *isin()*을 활용해서 내가 관심있는 범주인지 아닌지 포함여부에 대한 연산이 가능합니다."
   ]
  },
  {
   "cell_type": "code",
   "execution_count": null,
   "metadata": {},
   "outputs": [],
   "source": [
    "# isin() 예제 \n",
    "cond1 = df_ins['region'].isin(['southeast','northwest'])\n",
    "cond1"
   ]
  },
  {
   "cell_type": "code",
   "execution_count": null,
   "metadata": {},
   "outputs": [],
   "source": [
    "df_ins[cond1]"
   ]
  },
  {
   "cell_type": "markdown",
   "metadata": {},
   "source": [
    "<br>\n",
    "\n",
    "#### [실습]\n",
    "\n",
    "1. df_sp에서 math score가 90 이상인 관측치 선택\n",
    "2. df_sp에서 race/ethnicity가 'group D', 'group E'인 관측치 선택(isin() 활용)\n",
    "3. 1.과 2.를 동시에 만족하는 관측치 선택 "
   ]
  },
  {
   "cell_type": "code",
   "execution_count": null,
   "metadata": {},
   "outputs": [],
   "source": [
    "df_sp.head()"
   ]
  },
  {
   "cell_type": "code",
   "execution_count": null,
   "metadata": {},
   "outputs": [],
   "source": []
  },
  {
   "cell_type": "code",
   "execution_count": null,
   "metadata": {},
   "outputs": [],
   "source": []
  },
  {
   "cell_type": "code",
   "execution_count": null,
   "metadata": {},
   "outputs": [],
   "source": []
  },
  {
   "cell_type": "code",
   "execution_count": null,
   "metadata": {},
   "outputs": [],
   "source": []
  },
  {
   "cell_type": "markdown",
   "metadata": {},
   "source": [
    "#### [참고] Series의 str 메서드 활용\n",
    "문자열 Series(한 변수)에서 str 함수를 활용하면 특정 단어를 포함하거나 특정 패턴과 일치하는 관측치를 선택할 수 있습니다."
   ]
  },
  {
   "cell_type": "code",
   "execution_count": null,
   "metadata": {},
   "outputs": [],
   "source": [
    "df_sp['parental level of education'].str.startswith('b')"
   ]
  },
  {
   "cell_type": "code",
   "execution_count": null,
   "metadata": {},
   "outputs": [],
   "source": [
    "df_sp['parental level of education'].str.endswith('college')"
   ]
  },
  {
   "cell_type": "code",
   "execution_count": null,
   "metadata": {},
   "outputs": [],
   "source": [
    "df_sp['parental level of education'].str.contains('degree')"
   ]
  },
  {
   "cell_type": "code",
   "execution_count": null,
   "metadata": {},
   "outputs": [],
   "source": []
  },
  {
   "cell_type": "markdown",
   "metadata": {},
   "source": [
    "#### [참고] Series의 between 메서드 활용\n",
    "문자열 Series(한 변수)에서 str 함수를 활용하면 특정 단어를 포함하거나 특정 패턴과 일치하는 관측치를 선택할 수 있습니다."
   ]
  },
  {
   "cell_type": "code",
   "execution_count": null,
   "metadata": {},
   "outputs": [],
   "source": [
    "df_sp['math score'].between(80, 89.9)"
   ]
  },
  {
   "cell_type": "code",
   "execution_count": null,
   "metadata": {
    "scrolled": true
   },
   "outputs": [],
   "source": [
    "# 양쪽 끝 경계 포함 여부 지정 가능\n",
    "    # 'both', 'left', 'right'\n",
    "df_sp[df_sp['math score'].between(80, 90, inclusive='left')] "
   ]
  },
  {
   "cell_type": "code",
   "execution_count": null,
   "metadata": {},
   "outputs": [],
   "source": []
  },
  {
   "cell_type": "markdown",
   "metadata": {},
   "source": [
    "<br>\n",
    "\n",
    "### 3.6. 함수를 활용한 부분 관측치 선택\n",
    "\n",
    "함수를 활용해서 일부 관측치를 확인하기도 합니다."
   ]
  },
  {
   "cell_type": "code",
   "execution_count": null,
   "metadata": {},
   "outputs": [],
   "source": [
    "# head( )와 tail()\n",
    "df_ins.head()\n",
    "df_ins.tail()"
   ]
  },
  {
   "cell_type": "code",
   "execution_count": null,
   "metadata": {},
   "outputs": [],
   "source": [
    "# sample( )의 활용\n",
    "df_ins.sample(frac=0.005)\n",
    "df_ins.sample(n=10)"
   ]
  },
  {
   "cell_type": "code",
   "execution_count": null,
   "metadata": {},
   "outputs": [],
   "source": [
    "# nlargest( ), nsmallest( )로 상위/하위 관측치 선택\n",
    "df_ins.nlargest(10, 'charges')\n"
   ]
  },
  {
   "cell_type": "code",
   "execution_count": null,
   "metadata": {},
   "outputs": [],
   "source": [
    "df_ins.nsmallest(10, 'charges')"
   ]
  },
  {
   "cell_type": "markdown",
   "metadata": {},
   "source": [
    "<br>\n",
    "\n",
    "#### [실습]\n",
    "\n",
    "1. df_sp에서 math score 상위 20 명 선택\n",
    "2. df_sp에서 writing score 하위 10명 선택\n"
   ]
  },
  {
   "cell_type": "code",
   "execution_count": null,
   "metadata": {},
   "outputs": [],
   "source": [
    "df_sp.sample(n=10)"
   ]
  },
  {
   "cell_type": "code",
   "execution_count": null,
   "metadata": {},
   "outputs": [],
   "source": []
  },
  {
   "cell_type": "code",
   "execution_count": null,
   "metadata": {},
   "outputs": [],
   "source": []
  },
  {
   "cell_type": "markdown",
   "metadata": {},
   "source": [
    "<br>\n",
    "\n",
    "### 3.7. 중복값 제거\n",
    "\n",
    "`drop_duplicates()`를 활용해서 중복값을 제거한 목록 생성이 가능합니다."
   ]
  },
  {
   "cell_type": "code",
   "execution_count": null,
   "metadata": {},
   "outputs": [],
   "source": [
    "df_ins[['sex','region']].drop_duplicates()"
   ]
  },
  {
   "cell_type": "code",
   "execution_count": null,
   "metadata": {},
   "outputs": [],
   "source": []
  },
  {
   "cell_type": "markdown",
   "metadata": {},
   "source": [
    "### 3.8. 관측치 정렬\n",
    "\n",
    "`sort_values()`를 활용해서 관측치를 정렬할 수 있습니다. "
   ]
  },
  {
   "cell_type": "code",
   "execution_count": null,
   "metadata": {},
   "outputs": [],
   "source": [
    "# age 순 데이터 정렬\n",
    "df_ins.sort_values('age')"
   ]
  },
  {
   "cell_type": "code",
   "execution_count": null,
   "metadata": {},
   "outputs": [],
   "source": [
    "# 원본 데이터는 영향 없음\n",
    "df_ins.head()"
   ]
  },
  {
   "cell_type": "code",
   "execution_count": null,
   "metadata": {},
   "outputs": [],
   "source": [
    "# 원본 데이터의 정렬\n",
    "df_ins = df_ins.sort_values('age')\n",
    "df_ins.head()"
   ]
  },
  {
   "cell_type": "code",
   "execution_count": null,
   "metadata": {},
   "outputs": [],
   "source": [
    "# 내림차순 지정\n",
    "df_ins = df_ins.sort_values('age', ascending=False)\n",
    "df_ins.head()"
   ]
  },
  {
   "cell_type": "code",
   "execution_count": null,
   "metadata": {},
   "outputs": [],
   "source": [
    "# 복수 기준의 설정 \n",
    "df_ins.sort_values(['age', 'charges'], ascending=[True, False])"
   ]
  },
  {
   "cell_type": "code",
   "execution_count": null,
   "metadata": {},
   "outputs": [],
   "source": [
    "# index를 활용한 정렬\n",
    "df_ins = df_ins.sort_index()\n",
    "df_ins.head()"
   ]
  },
  {
   "cell_type": "code",
   "execution_count": null,
   "metadata": {},
   "outputs": [],
   "source": []
  },
  {
   "cell_type": "markdown",
   "metadata": {},
   "source": [
    "<br>\n",
    "\n",
    "\n",
    "#### [실습] 데이터 df_sp 활용\n",
    "\n",
    "1. 전체 관측치를 'math score', 'reading score'의 내림차순으로 정렬해서 출력\n"
   ]
  },
  {
   "cell_type": "code",
   "execution_count": null,
   "metadata": {},
   "outputs": [],
   "source": []
  },
  {
   "cell_type": "markdown",
   "metadata": {},
   "source": [
    "#### End of script"
   ]
  }
 ],
 "metadata": {
  "kernelspec": {
   "display_name": "Python 3 (ipykernel)",
   "language": "python",
   "name": "python3"
  },
  "language_info": {
   "codemirror_mode": {
    "name": "ipython",
    "version": 3
   },
   "file_extension": ".py",
   "mimetype": "text/x-python",
   "name": "python",
   "nbconvert_exporter": "python",
   "pygments_lexer": "ipython3",
   "version": "3.9.13"
  }
 },
 "nbformat": 4,
 "nbformat_minor": 4
}
