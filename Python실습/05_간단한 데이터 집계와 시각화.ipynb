{
 "cells": [
  {
   "cell_type": "markdown",
   "id": "80ab0741",
   "metadata": {},
   "source": [
    "# 간단한 데이터 집계와 시각화\n",
    "\n",
    "\n",
    "### 주요 내용\n",
    "\n",
    "1. 평균 등 집계값 계산\n",
    "2. 피벗 테이블 생성 \n",
    "3. 히스토그램 등 그래프 작성\n",
    "\n",
    "<br>\n",
    "\n",
    "### 목표 \n",
    "1. 건수, 평균 등 집계값을 계산한다.\n",
    "2. 피벗테이블로 집계값을 계산할 수 있다. \n",
    "3. 히스토그램, 막대그래프 등 상황에 맞는 그래프를 작성한다. \n",
    "\n",
    "\n",
    "<br>\n",
    "<hr>\n",
    "<br>"
   ]
  },
  {
   "cell_type": "markdown",
   "id": "f91e5a9a",
   "metadata": {},
   "source": [
    "# 1. 데이터 집계와 시각화\n",
    "\n",
    "일반적으로 데이터 전처리 이후 평균, 건수 등을 계산하는 집계와 히스토그램과 같은 그래프를 그리는 시각화가 이뤄집니다. 집계와 시각화는 별도의 과정에서 더 자세히 다룰 예정이고, 여기서는 간단한 몇가지 예제를 함께 살펴보겠습니다."
   ]
  },
  {
   "cell_type": "markdown",
   "id": "7092a289",
   "metadata": {},
   "source": [
    "### 1.1. 건수, 평균 등의 계산\n",
    "\n",
    "먼저 관심 변수를 선택한 다음, *mean()*과 같은 메서드를 활용하여 집계값을 계산할 수 있습니다.  \n",
    "변수 선택 이전에 *groupby()*를 추가하고 그룹별 집계값 계산도 가능합니다."
   ]
  },
  {
   "cell_type": "code",
   "execution_count": null,
   "id": "4e8accc2",
   "metadata": {},
   "outputs": [],
   "source": [
    "import pandas as pd\n",
    "df_ins = pd.read_csv('data/insurance.csv')\n",
    "df_sp  = pd.read_csv('data/StudentsPerformance.csv')"
   ]
  },
  {
   "cell_type": "code",
   "execution_count": null,
   "id": "0009c221",
   "metadata": {},
   "outputs": [],
   "source": [
    "df_ins['charges'].sum() \n",
    "df_ins['charges'].mean()\n",
    "df_ins['charges'].median()\n",
    "df_ins['charges'].count()"
   ]
  },
  {
   "cell_type": "code",
   "execution_count": null,
   "id": "a19175fe",
   "metadata": {},
   "outputs": [],
   "source": [
    "# 그룹별 집계값 계산\n",
    "df_ins.groupby('sex')['charges'].mean()"
   ]
  },
  {
   "cell_type": "code",
   "execution_count": null,
   "id": "858e17a7",
   "metadata": {},
   "outputs": [],
   "source": [
    "# 그룹별 건수 계산\n",
    "df_ins.groupby('sex')['charges'].count()\n",
    "df_ins['sex'].value_counts()"
   ]
  },
  {
   "cell_type": "code",
   "execution_count": null,
   "id": "756e7b32",
   "metadata": {},
   "outputs": [],
   "source": [
    "# DataFrame 형식으로 출력\n",
    "df_ins.groupby('sex', as_index=False)['charges'].mean()"
   ]
  },
  {
   "cell_type": "code",
   "execution_count": null,
   "id": "11e72106",
   "metadata": {},
   "outputs": [],
   "source": [
    "# 복수 그룹 변수의 활용\n",
    "df_ins.groupby(['sex', 'smoker'])['charges'].mean()"
   ]
  },
  {
   "cell_type": "code",
   "execution_count": null,
   "id": "47a0a379",
   "metadata": {},
   "outputs": [],
   "source": [
    "# 복수 그룹 변수의 활용(DataFrame 형식으로 출력)\n",
    "df_ins.groupby(['sex', 'smoker'], as_index=False)['charges'].mean()"
   ]
  },
  {
   "cell_type": "code",
   "execution_count": null,
   "id": "13696b18",
   "metadata": {},
   "outputs": [],
   "source": [
    "# 복수 수치형 변수의 동일한 집계값 계산\n",
    "df_ins.groupby(['sex', 'smoker'], as_index=False)[['charges', 'age']].mean()"
   ]
  },
  {
   "cell_type": "code",
   "execution_count": null,
   "id": "d25e84b6",
   "metadata": {},
   "outputs": [],
   "source": [
    "# 다양한 변수와 다양한 함수 활용한 집계\n",
    "# agg() 활용 \n",
    "agg1 = df_ins.groupby('sex', as_index=False).agg({'charges':['count', 'mean'], 'age':['min', 'max']})\n",
    "agg1"
   ]
  },
  {
   "cell_type": "markdown",
   "id": "eead3f79",
   "metadata": {},
   "source": [
    "<br>\n",
    "\n",
    "#### [실습] df_sp을 활용\n",
    "\n",
    "1. 'math score'의 평균 계산\n",
    "2. as_index=True, as_index=False를 활용해서 1.의 결과를 Series, DataFrame 형식으로 바꿔 출력\n",
    "3. 'race/ethnicity'별 'math score'의 평균 계산\n",
    "4. 'race/ethnicity', 'lunch' 수준 조합별 'math score', 'reading score', 'writing score'의 평균 계산\n"
   ]
  },
  {
   "cell_type": "code",
   "execution_count": null,
   "id": "fbc8e74f",
   "metadata": {},
   "outputs": [],
   "source": [
    "df_sp.head()"
   ]
  },
  {
   "cell_type": "code",
   "execution_count": null,
   "id": "1d1661b1",
   "metadata": {},
   "outputs": [],
   "source": []
  },
  {
   "cell_type": "code",
   "execution_count": null,
   "id": "df3fd5d8",
   "metadata": {},
   "outputs": [],
   "source": []
  },
  {
   "cell_type": "markdown",
   "id": "fac74d99",
   "metadata": {},
   "source": [
    "### 1.2. 피벗테이블 생성\n",
    "\n",
    "pandas의 *pivot_table()* 을 활용하면 Excel의 피벗테이블과 동일한 표 형태의 집계가 가능합니다.  \n",
    "\n",
    "+ index: 행 변수(범주형, 그룹) 지정\n",
    "+ columns: 열 변수(범주형, 그룹) 지정\n",
    "+ values: 값 변수 지정\n",
    "+ aggfunc: 집계함수 지정"
   ]
  },
  {
   "cell_type": "code",
   "execution_count": null,
   "id": "9c7d83ff",
   "metadata": {},
   "outputs": [],
   "source": [
    "pt1 = df_ins.pivot_table(index='region', columns='smoker', values='charges', aggfunc='mean')\n",
    "pt1"
   ]
  },
  {
   "cell_type": "markdown",
   "id": "8a1302d7",
   "metadata": {},
   "source": [
    "<br>\n",
    "\n",
    "#### [실습] df_sp 활용\n",
    "\n",
    "1. 'race/ethnicity', 'parental level of education'별 'math score'의 평균을 피벗테이블로 계산"
   ]
  },
  {
   "cell_type": "code",
   "execution_count": null,
   "id": "329b2404",
   "metadata": {},
   "outputs": [],
   "source": []
  },
  {
   "cell_type": "code",
   "execution_count": null,
   "id": "4ef399b7",
   "metadata": {},
   "outputs": [],
   "source": []
  },
  {
   "cell_type": "markdown",
   "id": "f62a36db",
   "metadata": {},
   "source": [
    "### 1.3. 그래프의 작성\n",
    "\n",
    "Python에서 그래프를 작성할 때 **matplotlib** 라이브러리를 기본적으로 활용할 수 있습니다.  \n",
    "이 과정에서는 좀 더 직관적으로 코드를 작성하고 그래프를 그릴 수 있는 **seaborn** 라이브러리를 활용합니다."
   ]
  },
  {
   "cell_type": "code",
   "execution_count": null,
   "id": "cbe64e19",
   "metadata": {},
   "outputs": [],
   "source": [
    "import seaborn as sns"
   ]
  },
  {
   "cell_type": "code",
   "execution_count": null,
   "id": "41e4cdd3",
   "metadata": {},
   "outputs": [],
   "source": [
    "# 히스토그램 작성\n",
    "sns.histplot(data=df_ins, \n",
    "             x='charges')"
   ]
  },
  {
   "cell_type": "code",
   "execution_count": null,
   "id": "dffb1e13",
   "metadata": {},
   "outputs": [],
   "source": [
    "# 막대그래프 작성\n",
    "sns.countplot(data=df_ins, \n",
    "              x='region')"
   ]
  },
  {
   "cell_type": "code",
   "execution_count": null,
   "id": "b1e05aac",
   "metadata": {},
   "outputs": [],
   "source": [
    "# 피벗 테이블을 열지도로 표현\n",
    "sns.heatmap(pt1, cmap='Blues', annot=True, fmt='.2f')"
   ]
  },
  {
   "cell_type": "markdown",
   "id": "09d8c3d2",
   "metadata": {},
   "source": [
    "<br>\n",
    "\n",
    "#### [실습] df_sp 활용\n",
    "\n",
    "1. 'math score'의 히스토그램 생성\n",
    "2. 'gender'별 학생 수를 계산 및 막대그래프 생성\n",
    "3. 'race/ethnicity', 'parental level of education'별 'math score'의 평균 피벗테이블을 열지도로 표현"
   ]
  },
  {
   "cell_type": "code",
   "execution_count": null,
   "id": "6409a335",
   "metadata": {},
   "outputs": [],
   "source": []
  },
  {
   "cell_type": "code",
   "execution_count": null,
   "id": "2ba58f82",
   "metadata": {},
   "outputs": [],
   "source": []
  },
  {
   "cell_type": "markdown",
   "id": "38b116f1",
   "metadata": {},
   "source": [
    "## 2. 데이터 집계와 데이터 처리 \n",
    "\n",
    "데이터 집계를 통해 얻은 정보를 다양한 방법으로 데이터 처리에 활용할 수 있습니다.  \n",
    "가장 대표적인 방법은 데이터 집계를 통해 관심 대상을 확인하고 선택하는 방법입니다."
   ]
  },
  {
   "cell_type": "code",
   "execution_count": null,
   "id": "db7a9500",
   "metadata": {},
   "outputs": [],
   "source": [
    "# 집계값의 계산\n",
    "agg2 = df_ins.groupby('region', as_index=False)['charges'].median()\n",
    "agg2"
   ]
  },
  {
   "cell_type": "code",
   "execution_count": null,
   "id": "b97a9132",
   "metadata": {},
   "outputs": [],
   "source": [
    "# 상위 2개 지역 선택\n",
    "target_region = agg2.nlargest(2, 'charges')['region']\n",
    "target_region"
   ]
  },
  {
   "cell_type": "code",
   "execution_count": null,
   "id": "0241d7d6",
   "metadata": {},
   "outputs": [],
   "source": [
    "# 전체 관측치에서 .isin()을 활용하여 해당 지역 관측치만 선택\n",
    "cond = df_ins['region'].isin(target_region)\n",
    "cond"
   ]
  },
  {
   "cell_type": "code",
   "execution_count": null,
   "id": "e1ee9836",
   "metadata": {},
   "outputs": [],
   "source": [
    "df_ins[cond]"
   ]
  },
  {
   "cell_type": "markdown",
   "id": "c2f518a0",
   "metadata": {},
   "source": [
    "<br>\n",
    "\n",
    "#### [실습] df_sp 활용\n",
    "\n",
    "1. 'parental level of education'별 'reading score'의 평균을 계산\n",
    "2. 1.의 결과에서 평균 점수 기준 상위 3개 부모교육수준 그룹을 *target*으로 저장하기\n",
    "3. 'parental level of education'과 `.isin()`, 2.에서 저장한 *target*을 활용하여 전체 데이터에서 해당 그룹 관측치만 선택하고 **df_sub**로 저장\n",
    "4. 3.의 부분 데이터 **df_sub**를 활용하여 'race/ethnicity'별 'writing score'의 평균 계산"
   ]
  },
  {
   "cell_type": "code",
   "execution_count": null,
   "id": "94bd130b",
   "metadata": {},
   "outputs": [],
   "source": []
  },
  {
   "cell_type": "code",
   "execution_count": null,
   "id": "f4e17c99",
   "metadata": {},
   "outputs": [],
   "source": []
  },
  {
   "cell_type": "code",
   "execution_count": null,
   "id": "905dab87",
   "metadata": {},
   "outputs": [],
   "source": []
  },
  {
   "cell_type": "code",
   "execution_count": null,
   "id": "a7a5a063",
   "metadata": {},
   "outputs": [],
   "source": []
  },
  {
   "cell_type": "markdown",
   "id": "d795f598",
   "metadata": {},
   "source": [
    "<br>\n",
    "<hr>\n",
    "<br>\n",
    "\n",
    "## 2. 반응형 그래프의 활용\n",
    "\n",
    "**plotly**를 활용해서 반응형 그래프를 그려서 탐색적 데이터 분석 과정에서 유용하게 활용가능합니다.\n",
    "\n",
    "* 참고: [Plotly](https://plotly.com/python/)"
   ]
  },
  {
   "cell_type": "code",
   "execution_count": null,
   "id": "a6e6b690",
   "metadata": {},
   "outputs": [],
   "source": [
    "# seaborn을 활용한 산점도 \n",
    "sns.scatterplot(data=df_ins, \n",
    "                x='bmi',\n",
    "                y='charges', \n",
    "                hue='smoker')"
   ]
  },
  {
   "cell_type": "code",
   "execution_count": null,
   "id": "348c21e3",
   "metadata": {},
   "outputs": [],
   "source": [
    "import plotly.express as px\n",
    "px.scatter(df_ins,\n",
    "           x='bmi',\n",
    "           y='charges', \n",
    "           color='smoker')"
   ]
  },
  {
   "cell_type": "markdown",
   "id": "c12d9c25",
   "metadata": {},
   "source": [
    "#### [실습]\n",
    "1. df_sp에서 `parental level of education`별로 색을 다르게 한  `math score`와 `reading score`의 산점도 그리기 "
   ]
  },
  {
   "cell_type": "code",
   "execution_count": null,
   "id": "9ae5effb",
   "metadata": {},
   "outputs": [],
   "source": []
  },
  {
   "cell_type": "markdown",
   "id": "906dd005",
   "metadata": {},
   "source": [
    "#### End of script"
   ]
  }
 ],
 "metadata": {
  "kernelspec": {
   "display_name": "Python 3 (ipykernel)",
   "language": "python",
   "name": "python3"
  },
  "language_info": {
   "codemirror_mode": {
    "name": "ipython",
    "version": 3
   },
   "file_extension": ".py",
   "mimetype": "text/x-python",
   "name": "python",
   "nbconvert_exporter": "python",
   "pygments_lexer": "ipython3",
   "version": "3.9.13"
  }
 },
 "nbformat": 4,
 "nbformat_minor": 5
}
