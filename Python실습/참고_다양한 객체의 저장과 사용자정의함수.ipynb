{
 "cells": [
  {
   "cell_type": "markdown",
   "id": "96f769c3",
   "metadata": {},
   "source": [
    "# 다양한 객체 저장/불러오기\n",
    "\n",
    "연속적인 데이터 분석 과정에서 중간 결과물을 저장하고 활용합니다. Jupyter가 재시작되거나 Python 세션이 재시작 되면 모든 것을 처음부터 재실행해야하므로, 시간이 오래걸리거나 반복 활용하는 객체 혹은 최종 결과물은 적절한 방법으로 Python 바깥으로 저장해야합니다. \n",
    "\n"
   ]
  },
  {
   "cell_type": "code",
   "execution_count": null,
   "id": "b2a88814",
   "metadata": {
    "scrolled": false
   },
   "outputs": [],
   "source": [
    "import pandas as pd\n",
    "df_ins = pd.read_csv('data/insurance.csv')\n",
    "df_ins"
   ]
  },
  {
   "cell_type": "code",
   "execution_count": null,
   "id": "20ebb0ae",
   "metadata": {},
   "outputs": [],
   "source": [
    "# 집계값 계산\n",
    "agg1 = df_ins.pivot_table('charges', 'sex', 'smoker')\n",
    "agg1"
   ]
  },
  {
   "cell_type": "code",
   "execution_count": null,
   "id": "41b27d2c",
   "metadata": {},
   "outputs": [],
   "source": [
    "# 폴더 만들기\n",
    "import os\n",
    "os.mkdir('result')"
   ]
  },
  {
   "cell_type": "markdown",
   "id": "18040d4b",
   "metadata": {},
   "source": [
    "<br>\n",
    "\n",
    "### 결과 데이터 저장하기"
   ]
  },
  {
   "cell_type": "code",
   "execution_count": null,
   "id": "1dd35887",
   "metadata": {},
   "outputs": [],
   "source": [
    "# to_csv()로 csv 형식으로 저장하기\n",
    "agg1.to_csv('result/result.csv', index=True)"
   ]
  },
  {
   "cell_type": "code",
   "execution_count": null,
   "id": "20144f7a",
   "metadata": {},
   "outputs": [],
   "source": [
    "# to_pickle()로 pickle 형식으로 저장하기\n",
    "agg1.to_pickle('result/result.pkl')"
   ]
  },
  {
   "cell_type": "code",
   "execution_count": null,
   "id": "382ad5af",
   "metadata": {},
   "outputs": [],
   "source": [
    "# to_feather()로 feather 형식으로 저장하기\n",
    "!pip install pyarrow\n",
    "agg1.reset_index().to_feather('result/result.ftr')"
   ]
  },
  {
   "cell_type": "code",
   "execution_count": null,
   "id": "008bd817",
   "metadata": {},
   "outputs": [],
   "source": [
    "# 각 형식의 데이터 불러오기\n",
    "print(pd.read_csv('result/result.csv'))\n",
    "print(pd.read_pickle('result/result.pkl'))\n",
    "print(pd.read_feather('result/result.ftr'))\n",
    "    # 일반적으로 feather가 가볍고 빠르나 데이터만 저장 가능\n",
    "    # pickle 역시 가볍고 빠르며, 모형 등 모든 Python 객체를 그대로 저장 가능"
   ]
  },
  {
   "cell_type": "markdown",
   "id": "6312835e",
   "metadata": {},
   "source": [
    "<br> \n",
    "\n",
    "### 그래프 저장하기"
   ]
  },
  {
   "cell_type": "code",
   "execution_count": null,
   "id": "e8630696",
   "metadata": {},
   "outputs": [],
   "source": [
    "import seaborn as sns\n",
    "pt1 = df_ins.pivot_table(index='region', columns='smoker', values='charges', aggfunc='mean')\n",
    "plot1 = sns.heatmap(pt1, cmap='Blues', annot=True, fmt='.2f')\n",
    "plot1"
   ]
  },
  {
   "cell_type": "code",
   "execution_count": null,
   "id": "82bf786e",
   "metadata": {},
   "outputs": [],
   "source": [
    "# savefig()을 활용한 그래프 저장\n",
    "plot1.figure.savefig('result/plot1.jpg')"
   ]
  },
  {
   "cell_type": "markdown",
   "id": "74a8a0ff",
   "metadata": {},
   "source": [
    "<br>\n",
    "<hr>\n",
    "<br>\n",
    "\n",
    "\n",
    "# 사용자 정의 함수 활용\n",
    "\n",
    "Python에서 반복되는 작업 내용이나 기존 함수와 기능의 조합을 함수로 만들어 활용할 수 있습니다. 이때 `def` 명령어를 활용하고, 함수의 앞에 `#`으로 주석을 넣거나 함수 안에서 `\"\"\"` 사이에 주석을 넣어 함수 설명을 넣습니다. 그리고 함수 실행 후 출력할 결과는 함수 정의 마지막 부분에서 `return` 명령어 뒤에 넣습니다. "
   ]
  },
  {
   "cell_type": "code",
   "execution_count": null,
   "id": "605fd09d",
   "metadata": {},
   "outputs": [],
   "source": [
    "# 사용자 정의 함수 생성\n",
    "def my_operation(a, b, c):\n",
    "    \"\"\"\n",
    "    입력된 세 숫자로 간단한 연산 수행\n",
    "    \"\"\"\n",
    "    print('입력된 숫자는 다음과 같습니다.\\n a={}, b={}, c={}'.format(a,b,c))\n",
    "    value = a + b - c\n",
    "    return(value)"
   ]
  },
  {
   "cell_type": "code",
   "execution_count": null,
   "id": "d5354132",
   "metadata": {},
   "outputs": [],
   "source": [
    "output = my_operation(1,2,3)\n",
    "output"
   ]
  },
  {
   "cell_type": "markdown",
   "id": "90f1696f",
   "metadata": {},
   "source": [
    "<br>\n",
    "\n",
    "함수를 만들기 전에 먼저 실제 작업 내용으로 스크립트를 작성하고, 이후 함수 안에서 바뀔 부분만 인수(argument)화하면 됩니다."
   ]
  },
  {
   "cell_type": "code",
   "execution_count": null,
   "id": "9974e762",
   "metadata": {},
   "outputs": [],
   "source": [
    "# 데이터 불러오기\n",
    "import pandas as pd\n",
    "import matplotlib.pyplot as plt\n",
    "import seaborn as sns\n",
    "\n",
    "df_ins = pd.read_csv('data/insurance.csv')\n",
    "\n",
    "\n",
    "# 두 변수로 교차표 만들고 열지도로 시각화해서 저장하기\n",
    "agg = df_ins.pivot_table(values='charges', index='sex', columns='smoker')\n",
    "plot2 = sns.heatmap(agg, cmap='Blues')\n",
    "plot2.figure.savefig('heatmap_'+'charges'+'_by_'+'sex'+'_and_'+'smoker'+'.jpg')"
   ]
  },
  {
   "cell_type": "code",
   "execution_count": null,
   "id": "8e2c8c60",
   "metadata": {},
   "outputs": [],
   "source": [
    "# 함수 생성\n",
    "def my_heatmap(df, v_var, i_var, c_var):\n",
    "    agg = df.pivot_table(values=v_var, index=i_var, columns=c_var)\n",
    "    p = sns.heatmap(agg, cmap='Blues')\n",
    "    file_name = 'heatmap_'+v_var+'_by_'+i_var+'_and_'+c_var+'.jpg'\n",
    "    p.figure.savefig(file_name)"
   ]
  },
  {
   "cell_type": "code",
   "execution_count": null,
   "id": "284aa2be",
   "metadata": {},
   "outputs": [],
   "source": [
    "my_heatmap(df_ins, 'charges', 'smoker', 'region')"
   ]
  },
  {
   "cell_type": "markdown",
   "id": "d44dbf23",
   "metadata": {},
   "source": [
    "<br>\n",
    "\n",
    "함수를 좀 더 일반적으로 활용하기 위해서는 함수 정의가 복잡해질 수 밖에 없습니다.\n"
   ]
  },
  {
   "cell_type": "code",
   "execution_count": null,
   "id": "339578c7",
   "metadata": {},
   "outputs": [],
   "source": [
    "import re \n",
    "def my_heatmap2(df, v_var, i_var, c_var):\n",
    "    agg = df.pivot_table(values=v_var, index=i_var, columns=c_var)\n",
    "    p = sns.heatmap(agg, cmap='Blues')\n",
    "    file_name = re.sub('[^A-Za-z0-9_.]+', '', 'heatmap_'+v_var+'_by_'+i_var+'_and_'+c_var+'.jpg') # 특수문자와 공백 제거\n",
    "    file_name = file_name\n",
    "    p.figure.savefig(file_name)"
   ]
  },
  {
   "cell_type": "code",
   "execution_count": null,
   "id": "76673c21",
   "metadata": {},
   "outputs": [],
   "source": [
    "df_sp = pd.read_csv('data/StudentsPerformance.csv')\n",
    "# my_heatmap(df_sp, 'math score', 'race/ethnicity', 'parental level of education')\n",
    "my_heatmap2(df_sp, 'math score', 'race/ethnicity', 'parental level of education')"
   ]
  },
  {
   "cell_type": "markdown",
   "id": "e58a3b91",
   "metadata": {},
   "source": [
    "#### End of script"
   ]
  }
 ],
 "metadata": {
  "kernelspec": {
   "display_name": "Python 3 (ipykernel)",
   "language": "python",
   "name": "python3"
  },
  "language_info": {
   "codemirror_mode": {
    "name": "ipython",
    "version": 3
   },
   "file_extension": ".py",
   "mimetype": "text/x-python",
   "name": "python",
   "nbconvert_exporter": "python",
   "pygments_lexer": "ipython3",
   "version": "3.9.13"
  }
 },
 "nbformat": 4,
 "nbformat_minor": 5
}
