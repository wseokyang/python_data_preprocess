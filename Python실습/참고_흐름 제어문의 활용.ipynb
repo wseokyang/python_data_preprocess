{
 "cells": [
  {
   "cell_type": "markdown",
   "metadata": {},
   "source": [
    "# 흐름(flow) 제어(control)문의 활용\n",
    "\n",
    "\n",
    "**if**, **for**, **while**과 같은 명령어를 활용해서 명령어의 흐름을 제어할 수 있습니다.  \n",
    "조건에 따라 다른 명령을 실행하거나, 일정 조건 동안 반복을 하는 것이 가능합니다.  \n",
    "\n",
    "개발 과정에서는 이러한 반복이나 조건에 따른 분기가 매우 중요하지만 분석에서는 그 중요성이 상대적으로 덜 합니다. "
   ]
  },
  {
   "cell_type": "markdown",
   "metadata": {},
   "source": [
    "<br> \n",
    "\n",
    "## 1. if 문의 활용\n",
    "\n",
    "*if* 뒤에 조건이 등장하고, 반드시 :(콜론)을 붙입니다. 그리고 [Enter]키를 누르면 자동으로 들여쓰기 되는 것을 볼 수 있습니다. 들여쓰기는 [Tab]이나 [Ctrl] + ]로 별도로 지정하거나 [<-]와 [Ctrl] + [로 취소할 수 있습니다. \n"
   ]
  },
  {
   "cell_type": "code",
   "execution_count": null,
   "metadata": {},
   "outputs": [],
   "source": [
    "if 1>0:\n",
    "    print('1 > 0 : ', 1>0)"
   ]
  },
  {
   "cell_type": "code",
   "execution_count": null,
   "metadata": {},
   "outputs": [],
   "source": [
    "# else를 활용한 조건과 일치하지 않을 때 작업 정의\n",
    "score = 61\n",
    "cutoff= 60\n",
    "\n",
    "if score >= cutoff:\n",
    "    print(f'합격(최종점수 : {score}점)')\n",
    "else:\n",
    "    print(f'탈락(최종점수 : {score}점)')\n"
   ]
  },
  {
   "cell_type": "code",
   "execution_count": null,
   "metadata": {},
   "outputs": [],
   "source": [
    "# and와 or를 활용한 논리연산(조건 결합)과 elif를 활용한 복수 조건 활용\n",
    "\n",
    "score = 91\n",
    "rank  = 3\n",
    "\n",
    "if score >= cutoff and rank <= 5:\n",
    "    print('합격(우등)')\n",
    "elif score >= cutoff:\n",
    "    print('합격')\n",
    "elif score == -1:\n",
    "    print('미응시')\n",
    "else:\n",
    "    print('탈락')"
   ]
  },
  {
   "cell_type": "markdown",
   "metadata": {},
   "source": [
    "#### [실습]\n",
    "\n",
    "1. 아래의 cell을 실행하고 딕셔너리 scores 만들기\n",
    "2. 대괄호 []나 .get( )으로 국어, 영어, 수학 점수 각각을 선택하기\n",
    "3. if 문을 활용해서 조건에 따라 다음과 같이 출력하기\n",
    "    * 국어, 영어, 수학 중 하나라도 50점 미만이면 '탈락'\n",
    "    * 세 점수의 합이 220점 이상이면 '합격', 아니면 '탈락'\n",
    "    * 세 점수의 합이 270점 이상이면 '합격(우등)'\n",
    " \n",
    "    "
   ]
  },
  {
   "cell_type": "code",
   "execution_count": null,
   "metadata": {},
   "outputs": [],
   "source": [
    "scores = {'국어':90, '영어':90, '수학':40}\n",
    "scores"
   ]
  },
  {
   "cell_type": "code",
   "execution_count": null,
   "metadata": {},
   "outputs": [],
   "source": []
  },
  {
   "cell_type": "code",
   "execution_count": null,
   "metadata": {},
   "outputs": [],
   "source": []
  },
  {
   "cell_type": "markdown",
   "metadata": {},
   "source": [
    "<br>\n",
    "\n",
    "## 2. for 문을 활용한 반복\n",
    "\n",
    "*for*를 활용하면 명령어를 반복 실행할 수 있습니다. 단순히 index만 바꿔 반복할 수도 있고, 특정한 값이나 주소 등을 바꿔가며 동일한 작업을 반복하는 것도 가능합니다."
   ]
  },
  {
   "cell_type": "code",
   "execution_count": null,
   "metadata": {},
   "outputs": [],
   "source": [
    "# 간단한 for문 예제\n",
    "count = 0\n",
    "\n",
    "for i in [11,12,13]:\n",
    "    count += 1 ## 반복할 때마다 1씩 증가    \n",
    "    print(f'{count}번째 값은 {i}')"
   ]
  },
  {
   "cell_type": "code",
   "execution_count": null,
   "metadata": {},
   "outputs": [],
   "source": [
    "# range()를 활용한 무난한 반복\n",
    "print(range(10))\n",
    "\n",
    "print(list(range(10)))\n",
    "\n",
    "for i in range(10):\n",
    "    print(i, end='\\t')"
   ]
  },
  {
   "cell_type": "code",
   "execution_count": null,
   "metadata": {},
   "outputs": [],
   "source": [
    "# for문 안에서 if문 활용\n",
    "scores = {'국어':90, '영어':90, '수학':40}\n",
    "\n",
    "for k in scores.keys():\n",
    "    if scores[k] < 50:\n",
    "        print('탈락({} 과락)'.format(k))\n"
   ]
  },
  {
   "cell_type": "markdown",
   "metadata": {},
   "source": [
    "<br>\n",
    "\n",
    "## 3. while 문을 활용한 반복\n",
    "\n",
    "반복할 대상을 지정하는 for 문과 달리 while 문은 반복할 조건을 지정합니다. 조건과 일치하지 않을 때까지 계속해서 반복합니다.  \n",
    "곧바로 멈추고 싶을 때는 정지버튼을 누르면 됩니다."
   ]
  },
  {
   "cell_type": "code",
   "execution_count": null,
   "metadata": {},
   "outputs": [],
   "source": [
    "# for 문과 비슷한 반복\n",
    "cnt = 0\n",
    "\n",
    "while cnt<=10:\n",
    "    print(cnt, end='\\t')\n",
    "    cnt += 1"
   ]
  },
  {
   "cell_type": "code",
   "execution_count": null,
   "metadata": {},
   "outputs": [],
   "source": [
    "import time\n",
    "time.sleep(5)\n",
    "    ## 5초 동안 멈추기\n",
    "    \n",
    "    "
   ]
  },
  {
   "cell_type": "code",
   "execution_count": null,
   "metadata": {},
   "outputs": [],
   "source": [
    "# 무한 반복과 if 문과 break\n",
    "from datetime import *\n",
    "import time\n",
    "\n",
    "while True:\n",
    "    print(datetime.now())\n",
    "    time.sleep(1)\n",
    "    \n",
    "    if datetime.now().second == 36:\n",
    "        print('드디어 36초')\n",
    "        break\n"
   ]
  },
  {
   "cell_type": "code",
   "execution_count": null,
   "metadata": {},
   "outputs": [],
   "source": [
    "# continue를 활용한 다음 반복으로 넘어가기\n",
    "while True:\n",
    "    now = datetime.now()\n",
    "    if now.second % 5 != 0:\n",
    "        continue\n",
    "        ## 5의 배수 초가 아니면 아래의 명령어를 무시하고 다음 반복으로 넘어감\n",
    "        \n",
    "    print(now)\n",
    "    time.sleep(1)\n",
    "    \n",
    "    if now.second == 0:\n",
    "        print('드디어 0초')\n",
    "        break\n"
   ]
  },
  {
   "cell_type": "markdown",
   "metadata": {},
   "source": [
    "#### [실습]\n",
    "1. 아래의 두 cell을 실행해서 1/10 당첨 확률의 뽑기 확인하기\n",
    "2. count의 초기값을 0으로 지정\n",
    "3. while 문을 활용해서 '당첨'이 나올 때까지 반복\n",
    "4. +=을 활용해서 당첨될 때까지 반복 횟수를 count로 저장, 확인"
   ]
  },
  {
   "cell_type": "code",
   "execution_count": null,
   "metadata": {},
   "outputs": [],
   "source": [
    "# 뽑기표 10개 만들기 \n",
    "pool = ['꽝']*9\n",
    "pool.append('당첨')\n",
    "pool\n"
   ]
  },
  {
   "cell_type": "code",
   "execution_count": null,
   "metadata": {},
   "outputs": [],
   "source": [
    "# 랜덤으로 하나 뽑기\n",
    "import random\n",
    "pool[random.randint(0,9)]"
   ]
  },
  {
   "cell_type": "code",
   "execution_count": null,
   "metadata": {},
   "outputs": [],
   "source": []
  },
  {
   "cell_type": "code",
   "execution_count": null,
   "metadata": {},
   "outputs": [],
   "source": []
  },
  {
   "cell_type": "markdown",
   "metadata": {},
   "source": [
    "<br>\n",
    "\n",
    "## 4. <span style='color: blue'>for와 if를 활용한 리스트 생성</span>\n",
    "\n",
    "실제 데이터 분석에서는 파생 변수를 만들 때 *for*와 *if*를 더 많이 활용합니다.  \n",
    "기존 변수를 변환하거나, 기존 변수를 활용해서 조건에 따라 값을 다르게 지정할 때 활용할 수 있습니다."
   ]
  },
  {
   "cell_type": "code",
   "execution_count": null,
   "metadata": {},
   "outputs": [],
   "source": [
    "# 기본 for/if를 활용한 리스트 생성\n",
    "a = list()\n",
    "for i in range(10):\n",
    "    a.append(max(i-5, 0))\n",
    "a    \n"
   ]
  },
  {
   "cell_type": "code",
   "execution_count": null,
   "metadata": {},
   "outputs": [],
   "source": [
    "# 3의 배수 리스트\n",
    "b = list()\n",
    "for i in range(10):\n",
    "    if i%3==0:\n",
    "        b.append(i)\n",
    "b    \n"
   ]
  },
  {
   "cell_type": "code",
   "execution_count": null,
   "metadata": {},
   "outputs": [],
   "source": [
    "# 대괄호 안에서 for, if 활용하기\n",
    "a = [max(ii-5, 0) for ii in range(10)]\n",
    "a"
   ]
  },
  {
   "cell_type": "code",
   "execution_count": null,
   "metadata": {},
   "outputs": [],
   "source": [
    "b = [ii for ii in range(10) if ii%3 ==0]\n",
    "b"
   ]
  },
  {
   "cell_type": "code",
   "execution_count": null,
   "metadata": {},
   "outputs": [],
   "source": [
    "# if, else로 간단한 값 하나 생성\n",
    "cc  = 33\n",
    "cc_ = '홀수' if cc%2==1 else '짝수'\n",
    "cc_"
   ]
  },
  {
   "cell_type": "code",
   "execution_count": null,
   "metadata": {},
   "outputs": [],
   "source": [
    "# if를 for보다 먼저 넣은 리스트 생성\n",
    "c = ['홀수' if cc%2==1 else '짝수' for cc in range(1,10)]\n",
    "c"
   ]
  },
  {
   "cell_type": "markdown",
   "metadata": {},
   "source": [
    "#### [실습]\n",
    "\n",
    "1. 세자리 숫자 5개를 리스트로 저장하기\n",
    "2. str( )로 1.의 리스트를 문자열로 형식을 바꾼 리스트 만들기 \n",
    "3. 1.의 숫자 중에서 500 이상인 숫자만 모은 리스트 만들기\n"
   ]
  },
  {
   "cell_type": "code",
   "execution_count": null,
   "metadata": {},
   "outputs": [],
   "source": []
  },
  {
   "cell_type": "code",
   "execution_count": null,
   "metadata": {},
   "outputs": [],
   "source": []
  },
  {
   "cell_type": "markdown",
   "metadata": {},
   "source": [
    "## 5. glob과 for 반복문을 활용한 복수 데이터 처리\n",
    "\n",
    "glob 라이브러리의 glob 함수를 활용하면 복수의 데이터를 손쉽게 처리할 수 있습니다."
   ]
  },
  {
   "cell_type": "code",
   "execution_count": null,
   "metadata": {},
   "outputs": [],
   "source": [
    "from glob import glob\n",
    "import pandas as pd"
   ]
  },
  {
   "cell_type": "code",
   "execution_count": null,
   "metadata": {},
   "outputs": [],
   "source": [
    "# 대상 파일 목록 생성\n",
    "file_list  = glob('data/*SUBWAY*.csv')\n",
    "file_list"
   ]
  },
  {
   "cell_type": "code",
   "execution_count": null,
   "metadata": {},
   "outputs": [],
   "source": [
    "# for를 활용한 반복\n",
    "a = list()\n",
    "for path_ in file_list:\n",
    "    a.append(pd.read_csv(path_, encoding='CP949'))\n",
    "a"
   ]
  },
  {
   "cell_type": "code",
   "execution_count": null,
   "metadata": {},
   "outputs": [],
   "source": [
    "# 최종 작업\n",
    "df_subway = pd.concat(a, axis=0).reset_index(drop=True)\n",
    "df_subway"
   ]
  },
  {
   "cell_type": "markdown",
   "metadata": {},
   "source": [
    "<br>\n",
    "또다른 예제"
   ]
  },
  {
   "cell_type": "code",
   "execution_count": null,
   "metadata": {},
   "outputs": [],
   "source": [
    "list_paths = glob('data/*/아파트*.csv',recursive=True)\n",
    "list_paths"
   ]
  },
  {
   "cell_type": "code",
   "execution_count": null,
   "metadata": {},
   "outputs": [],
   "source": [
    "# 하나의 파일에 대한 분석 \n",
    "df_ = pd.read_csv(list_paths[0], encoding='CP949', skiprows=15)\n",
    "df_"
   ]
  },
  {
   "cell_type": "code",
   "execution_count": null,
   "metadata": {},
   "outputs": [],
   "source": [
    "import re\n",
    "df_ = pd.read_csv(list_paths[0], encoding='CP949', skiprows=15)\n",
    "df_['거래금액(만원)'] = [int(re.sub('[^0-9]', '', x)) for x in df_['거래금액(만원)']]\n",
    "df_result = df_.nlargest(3, '거래금액(만원)')\n",
    "print(df_result)"
   ]
  },
  {
   "cell_type": "code",
   "execution_count": null,
   "metadata": {},
   "outputs": [],
   "source": [
    "a = list()\n",
    "\n",
    "for path in list_paths:\n",
    "    df_ = pd.read_csv(path, encoding='CP949', skiprows=15)\n",
    "    df_['거래금액(만원)'] = [int(re.sub('[^0-9]', '', x)) for x in df_['거래금액(만원)']]\n",
    "    df_result = df_.nlargest(3, '거래금액(만원)')\n",
    "    a.append(df_result)\n",
    "#     print(df_result)"
   ]
  },
  {
   "cell_type": "code",
   "execution_count": null,
   "metadata": {},
   "outputs": [],
   "source": [
    "pd.concat(a)"
   ]
  },
  {
   "cell_type": "markdown",
   "metadata": {},
   "source": [
    "#### End of script"
   ]
  }
 ],
 "metadata": {
  "kernelspec": {
   "display_name": "Python 3 (ipykernel)",
   "language": "python",
   "name": "python3"
  },
  "language_info": {
   "codemirror_mode": {
    "name": "ipython",
    "version": 3
   },
   "file_extension": ".py",
   "mimetype": "text/x-python",
   "name": "python",
   "nbconvert_exporter": "python",
   "pygments_lexer": "ipython3",
   "version": "3.9.13"
  }
 },
 "nbformat": 4,
 "nbformat_minor": 4
}
