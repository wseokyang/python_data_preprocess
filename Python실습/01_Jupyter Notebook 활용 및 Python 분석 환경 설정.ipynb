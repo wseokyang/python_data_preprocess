{
 "cells": [
  {
   "cell_type": "markdown",
   "id": "edbc25c4",
   "metadata": {},
   "source": [
    "# Jupyter Notebook 활용 및 Python 분석 환경 설정\n",
    "\n",
    "### 주요 내용\n",
    "\n",
    "1. Jupyter notebook의 주요 기능 및 단축키 등 설명\n",
    "2. pip를 활용한 라이브러리 설치\n",
    "3. import를 활용한 라이브러리 불러오기\n",
    "\n",
    "<br>\n",
    "\n",
    "### 목표 \n",
    "1. Jupyter Notebook을 활용해서 Python 코드를 작성하고 실행할 수 있다.\n",
    "2. 작업 폴더(working directory)의 개념을 이해한다.\n",
    "3. 라이브러리(library) 활용 목적과 절차를 이해한다.\n",
    "\n",
    "\n",
    "<br>\n",
    "<hr>\n",
    "<br>"
   ]
  },
  {
   "cell_type": "markdown",
   "id": "efd228f4",
   "metadata": {},
   "source": [
    "## 1. Jupyter Notebook 사용법, 기능 및 단축키 소개  \n",
    "\n",
    "가장 먼저 jupyter notebook의 사용법을 살펴보겠습니다.  \n",
    "\n",
    "jupyter notebook은 여러 cell을 수직적으로 결합해서 문서를 만들거나 분석을 수행합니다. 상단 메뉴바와 아이콘을 활용하여 cell을 추가, 제거, 이동, 복사 할 수 있고 명령어를 실행하고 결과를 확인할 수 있습니다. 이 과정에서 주로 활용되는 cell과 관련된 기본적인 단축키를 알아두면 편합니다.  \n",
    "\n",
    "\n",
    "* 파란색 : 명령 모드(cell의 추가, 복사, 삭제 등), \"ESC\"\n",
    "  - `H` : 단축키 목록 팝업\n",
    "  - `A` : 위에 cell 추가 \n",
    "  - `B` : 아래에 cell 추가\n",
    "  - `위/아래 화살표` : cell 이동\n",
    "  - `D, D` : cell 삭제\n",
    "  - `M` : cell을 Markdown(문서 작성) 형식으로 변경\n",
    "  - `Y` : cell을 Code(명령어 작성) 형식으로 변경\n",
    "  - `S`, `Ctrl + S` : 저장\n",
    "  \n",
    "  \n",
    "* 초록색 : 수정 모드(각 cell 안에서 명령어 등 입력), \"ENTER\"\n",
    "  - `Tab` : 들여쓰기 혹은 코드 완성\n",
    "  - `Shift + Tab` : 들여쓰기 취소 혹은 툴팁(도움말)\n",
    "  - `Ctrl + /` : 주석처리/해제\n",
    "\n",
    "* cell 실행 \n",
    "  - `Shift + Enter` : 실행하고 다음 cell로 이동\n",
    "  - `Ctrl + Enter` : 실행\n",
    "  \n",
    "\n",
    "<br>\n",
    "\n",
    "\n",
    "\n"
   ]
  },
  {
   "cell_type": "code",
   "execution_count": null,
   "id": "ad02eaa0",
   "metadata": {},
   "outputs": [],
   "source": [
    "# \"#\"을 붙여서 주석(comment)을 달 수 있습니다."
   ]
  },
  {
   "cell_type": "code",
   "execution_count": null,
   "id": "04514f9a",
   "metadata": {},
   "outputs": [],
   "source": [
    "# 이 cell에 간단한 사칙 연산을 입력하고 실행해 봅시다.\n",
    "\n"
   ]
  },
  {
   "cell_type": "code",
   "execution_count": null,
   "id": "ab9769da",
   "metadata": {},
   "outputs": [],
   "source": [
    "# 이 cell을 클릭하고 \"M\"을 누르면 Markdown으로 바뀝니다."
   ]
  },
  {
   "cell_type": "markdown",
   "id": "d44263db",
   "metadata": {},
   "source": [
    "#### 이 cell을 클릭하고 \"Y\"를 누르면 Code로 바뀝니다."
   ]
  },
  {
   "cell_type": "code",
   "execution_count": null,
   "id": "b07ff0d4",
   "metadata": {},
   "outputs": [],
   "source": []
  },
  {
   "cell_type": "markdown",
   "id": "9076aeae",
   "metadata": {},
   "source": [
    "\n",
    "<br>\n",
    "\n",
    "## 2. 새 폴더와 새 노트북 파일 만들기\n",
    "\n",
    "Python을 활용한 데이터 분석에서 **데이터**와 **노트북 파일**이 필수입니다. 데이터는 여러가지 방법으로 Python으로 불러올 수 있는데요, 일반적으로 CSV 파일을 활용합니다. 데이터 파일이 어디 있든 문제는 없지만 이왕이면 잘 알고 있고 찾기 쉬운 곳에 두는 것이 좋겠죠?  \n",
    "  \n",
    "jupyter 메인 페이지로 이동해서 적절한 곳에 새 폴더를 만들고, 새 노트북 파일을 만들어 봅시다. 상단 메뉴 중 [File] > [New Notebook]으로 지금 작업하고 있는 노트북 파일과 동일한 폴더에 새 노트북 파일을 만드는 것도 가능합니다.  \n",
    "\n",
    "  \n",
    "새 노트북 파일에서 `A`, `B` 를 눌러 새로운 cell을 추가하고, `M`, `Y`를 눌러 마크다운과 코드로 형식을 바꿔봅시다. `Enter`를 누른 수정모드에서 간단한 수식을 넣고 `Ctrl+Enter`로 실행하고, `Shift+Enter`로 다시 한번 실행한 다음 차이를 확인합니다. 다시 방향키로 위의 cell로 이동한 다음 수정모드에서 `Ctrl+/`를 눌러 작성한 스크립트를 주석 처리하거나 직접 `#`을 써서 주석을 입력해봅시다.  \n",
    "\n",
    "[File] > [Download as]로 다양한 형식으로 노트북을 저장할 수 있고, [Cell] > [All output] > [Clear]로 모든 결과를 지우는 것도 가능합니다. \n"
   ]
  },
  {
   "cell_type": "markdown",
   "id": "90ac77b8",
   "metadata": {},
   "source": [
    "\n",
    "<br>\n",
    "<hr>\n",
    "<br>\n",
    "\n",
    "## 3. pip를 활용한 Library 설치\n",
    "\n",
    "Python을 활용해 데이터를 분석하기 위해서는 pandas와 같은 라이브러리 설치가 필수적입니다.  \n",
    "<span style='color:blue;font-weight:bold'>pip</span> 명령어를 활용해서 라이브러리를 설치할 수 있습니다.\n",
    "jupyter notebook 안에서 shell command를 실행하기 위해서 <span style='color:purple;font-weight:bold'>!</span>를 앞에 붙입니다.  \n",
    "\n",
    "*라이브러리를 설치하기 위해서는 외부망 접속이 가능해야하고, 외부망에서 소스 파일을 다운받아 압축을 풀기 위해서는 특정 폴더에 대한 권한도 필요합니다.*"
   ]
  },
  {
   "cell_type": "code",
   "execution_count": null,
   "id": "e80748ed",
   "metadata": {},
   "outputs": [],
   "source": [
    "!pip install numpy pandas matplotlib seaborn plotly xlrd openpyxl"
   ]
  },
  {
   "cell_type": "markdown",
   "id": "5d3030c2",
   "metadata": {},
   "source": [
    "<br>\n",
    "\n",
    "## 4. Library 설치 확인\n",
    "\n",
    "라이브러리가 정상적으로 설치되었는지 확인합니다. 편의상 일부 라이브러리에 대해서만 확인하겠습니다.\n",
    "\n",
    "* 4개 결과 출력여부 확인\n",
    "    - openpyxl==3.0.9\n",
    "    - pandas==1.4.4\n",
    "    - plotly==5.10.0\n",
    "    - seaborn==0.12.0\n",
    "\n",
    "* 버전 차이는 문제 없음"
   ]
  },
  {
   "cell_type": "code",
   "execution_count": null,
   "id": "d3ae205a",
   "metadata": {},
   "outputs": [],
   "source": [
    "# Windows \n",
    "!pip list --format=freeze | findstr /r \"pandas seaborn plotly openpyxl\""
   ]
  },
  {
   "cell_type": "markdown",
   "id": "8d007092",
   "metadata": {},
   "source": [
    "<br>\n",
    "<hr>\n",
    "<br>\n",
    "\n",
    "## 5. Library 활용 예제 등\n",
    "\n",
    "대표적인 라이브러리를 활용해서 라이브러리의 활용 방법을 살펴보겠습니다.  \n",
    "*import*를 활용해서 특정 라이브러리를 불러오면, 해당 라이브러리에 포함된 객체나 기능, 함수 등을 활용할 수 있습니다."
   ]
  },
  {
   "cell_type": "code",
   "execution_count": null,
   "id": "4c135ae6",
   "metadata": {},
   "outputs": [],
   "source": [
    "import os"
   ]
  },
  {
   "cell_type": "markdown",
   "id": "b7571610",
   "metadata": {},
   "source": [
    "아래의 cell에 *os.*을 입력하고 **Tab**키를 누릅니다. 자동 완성(Auto-completion) 기능을 활용해서 함수 *getcwd()*를 찾고 **Enter**키를 눌러서 선택합니다.  \n",
    "소괄호를 열고 **Shift+Tab**을 눌러 함수의 도움말을 확인할 수 있습니다.  "
   ]
  },
  {
   "cell_type": "code",
   "execution_count": null,
   "id": "c71e116c",
   "metadata": {},
   "outputs": [],
   "source": []
  },
  {
   "cell_type": "markdown",
   "id": "18429deb",
   "metadata": {},
   "source": [
    "### [실습] \n",
    "위와 같은 방법으로 **os** 라이브러리의 함수 *listdir()*과 *mkdir()*을 선택하고 자유롭게 실행하기"
   ]
  },
  {
   "cell_type": "code",
   "execution_count": null,
   "id": "ffaced60",
   "metadata": {},
   "outputs": [],
   "source": [
    "os.listdir()"
   ]
  },
  {
   "cell_type": "code",
   "execution_count": null,
   "id": "afddac01",
   "metadata": {},
   "outputs": [],
   "source": []
  },
  {
   "cell_type": "code",
   "execution_count": null,
   "id": "af68dc72",
   "metadata": {},
   "outputs": [],
   "source": []
  },
  {
   "cell_type": "code",
   "execution_count": null,
   "id": "9abd74a3",
   "metadata": {},
   "outputs": [],
   "source": []
  },
  {
   "cell_type": "markdown",
   "id": "24065efd",
   "metadata": {},
   "source": [
    "이렇게 각 라이브러리마다 역할이 있고, 필요에 따라 *import*로 불러와 활용합니다.  \n",
    "특히 **os** 라이브러리는 작업 폴더(working directory)를 확인하거나 바꾸고, 폴더를 생성하는 등 일반적인 파일작업 등이 가능하기 때문에 개발이나 업무자동화에서 필수적으로 활용됩니다.  \n",
    "\n",
    "물론 라이브러리를 불러오지 않아도 활용가능한 여러가지 함수와 명령어들도 있습니다. 그중 **%**로 시작하는 매직 명령어(magic commands)는 **os** 라이브러리의 함수를 대신하기도 합니다."
   ]
  },
  {
   "cell_type": "code",
   "execution_count": null,
   "id": "3afce78c",
   "metadata": {},
   "outputs": [],
   "source": [
    "# 작업 폴더 출력\n",
    "%pwd"
   ]
  },
  {
   "cell_type": "code",
   "execution_count": null,
   "id": "8cb19ed0",
   "metadata": {},
   "outputs": [],
   "source": [
    "# 폴더 생성\n",
    "%mkdir temp"
   ]
  },
  {
   "cell_type": "code",
   "execution_count": null,
   "id": "7ecf1d2a",
   "metadata": {},
   "outputs": [],
   "source": [
    "# 작업 폴더 내 파일 목록 출력\n",
    "%ls"
   ]
  },
  {
   "cell_type": "code",
   "execution_count": null,
   "id": "1ff96742",
   "metadata": {},
   "outputs": [],
   "source": [
    "# 시간 측정\n",
    "%time 1*2/3*4/5*6/7*8/9*10"
   ]
  },
  {
   "cell_type": "code",
   "execution_count": null,
   "id": "6e71aa08",
   "metadata": {},
   "outputs": [],
   "source": [
    "# 시간 반복 측정(10번씩 100번 반복)\n",
    "%timeit -n10 -r100 1*2/3*4/5*6/7*8/9*10"
   ]
  },
  {
   "cell_type": "code",
   "execution_count": null,
   "id": "52a1d3d9",
   "metadata": {},
   "outputs": [],
   "source": []
  },
  {
   "cell_type": "markdown",
   "id": "69c32fd2",
   "metadata": {},
   "source": [
    "<br>\n",
    "\n",
    "### [실습] \n",
    "\n",
    "1. *import*로 **random** 라이브러리 불러오기\n",
    "2. **random** 라이브러리의 *randint()* 함수를 활용해서 1부터 100까지 숫자 중에서 랜덤으로 하나 선택하기 \n",
    "3. **time** 라이브러리를 불러와서 *localtime()*으로 날짜 시간 요소 확인하기\n"
   ]
  },
  {
   "cell_type": "code",
   "execution_count": null,
   "id": "e8cc2038",
   "metadata": {},
   "outputs": [],
   "source": []
  },
  {
   "cell_type": "code",
   "execution_count": null,
   "id": "2e97f4f3",
   "metadata": {},
   "outputs": [],
   "source": []
  },
  {
   "cell_type": "code",
   "execution_count": null,
   "id": "7fcbf644",
   "metadata": {},
   "outputs": [],
   "source": []
  },
  {
   "cell_type": "code",
   "execution_count": null,
   "id": "ad485d7b",
   "metadata": {},
   "outputs": [],
   "source": []
  },
  {
   "cell_type": "code",
   "execution_count": null,
   "id": "be819db2",
   "metadata": {},
   "outputs": [],
   "source": []
  },
  {
   "cell_type": "markdown",
   "id": "f22f05f8",
   "metadata": {},
   "source": [
    "<br>\n",
    "\n",
    "### 5.1. 다양한 라이브러리 불러오기 \n",
    "\n",
    "라이브러리는 몇개의 모듈로 구성되고, 각 모듈 안에 함수 등이 포함되어 있습니다.  \n",
    "그래서 상황에 따라 명령어가 복잡할 수 있는데요,*import*로 를 활용해서 라이브러리를 불러올 때 *as*를 활용해서 별명을 지정할 수도 있습니다.  \n",
    "\n",
    "그리고 *from*을 활용해서 라이브러리 내 특정 모듈을 지정해서 불러오는 것도 가능합니다.\n"
   ]
  },
  {
   "cell_type": "code",
   "execution_count": null,
   "id": "20f059ec",
   "metadata": {},
   "outputs": [],
   "source": [
    "# import를 활용한 라이브러리 호출\n",
    "import datetime\n",
    "\n",
    "time1 = datetime.datetime.now()\n",
    "    ## datetime 라이브러리에 있는 \n",
    "    ## datatime 모듈에 있는\n",
    "    ## now( )\n",
    "    \n",
    "print(time1)"
   ]
  },
  {
   "cell_type": "code",
   "execution_count": null,
   "id": "d65a846b",
   "metadata": {},
   "outputs": [],
   "source": [
    "# as를 활용한 별명 지정 \n",
    "import datetime as dtdt\n",
    "\n",
    "time1 = dtdt.datetime.now()\n",
    "print(time1)"
   ]
  },
  {
   "cell_type": "code",
   "execution_count": null,
   "id": "70bf9d65",
   "metadata": {},
   "outputs": [],
   "source": [
    "# 라이브러리 내 모든 함수 불러오기\n",
    "from datetime import datetime \n",
    "\n",
    "time1 = datetime.now()\n",
    "print(time1)"
   ]
  },
  {
   "cell_type": "code",
   "execution_count": null,
   "id": "8a86d794",
   "metadata": {},
   "outputs": [],
   "source": [
    "# 라이브러리 내 모든 함수 불러오기\n",
    "from datetime import * \n",
    "\n",
    "time1 = datetime.now()\n",
    "print(time1)"
   ]
  },
  {
   "cell_type": "markdown",
   "id": "200a702d",
   "metadata": {},
   "source": [
    "#### End of script"
   ]
  }
 ],
 "metadata": {
  "kernelspec": {
   "display_name": "Python 3 (ipykernel)",
   "language": "python",
   "name": "python3"
  },
  "language_info": {
   "codemirror_mode": {
    "name": "ipython",
    "version": 3
   },
   "file_extension": ".py",
   "mimetype": "text/x-python",
   "name": "python",
   "nbconvert_exporter": "python",
   "pygments_lexer": "ipython3",
   "version": "3.9.13"
  }
 },
 "nbformat": 4,
 "nbformat_minor": 5
}
